{
 "cells": [
  {
   "cell_type": "code",
   "execution_count": 1,
   "id": "ad27b931-f7e4-4671-8fbc-ca868b4162f2",
   "metadata": {},
   "outputs": [],
   "source": [
    "import sys\n",
    "import os\n",
    "import shutil\n",
    "import warnings\n",
    "warnings.filterwarnings(\"ignore\")\n",
    "warnings.filterwarnings(\"ignore\", category=DeprecationWarning) \n",
    "import pandas as pd\n",
    "import numpy as np\n",
    "import matplotlib.pyplot as plt;\n",
    "# for this course we use locally stored version of pyemu and flopy to avoid version conflicts\n",
    "import pyemu\n",
    "import flopy\n",
    "\n",
    "sys.path.insert(0,\"..\")\n",
    "import herebedragons as hbd"
   ]
  },
  {
   "cell_type": "markdown",
   "id": "e5a71279-7c1a-4d95-a29a-4eae602c5e8f",
   "metadata": {},
   "source": [
    "### Create temp directory so we don't break anything"
   ]
  },
  {
   "cell_type": "code",
   "execution_count": 2,
   "id": "cffb98c6-c7a4-4514-8dfc-3d0ff22c4617",
   "metadata": {},
   "outputs": [],
   "source": [
    "# folder containing original model files\n",
    "org_d = os.path.join('..', 'input-files')\n",
    "\n",
    "# a dir to hold a copy of the org model files\n",
    "tmp_d = os.path.join('..','peterson_mf6')\n",
    "\n",
    "if os.path.exists(tmp_d):\n",
    "    shutil.rmtree(tmp_d)\n",
    "shutil.copytree(org_d,tmp_d)\n",
    "\n",
    "# get executables\n",
    "hbd.prep_bins(tmp_d)\n",
    "# get dependency folders\n",
    "#hbd.prep_deps(tmp_d)"
   ]
  },
  {
   "cell_type": "code",
   "execution_count": 3,
   "id": "8661f6fc-4722-469a-a31d-ce74788b7e26",
   "metadata": {},
   "outputs": [
    {
     "name": "stdout",
     "output_type": "stream",
     "text": [
      "loading simulation...\n",
      "  loading simulation name file...\n",
      "  loading tdis package...\n",
      "  loading model gwf6...\n",
      "    loading package dis...\n",
      "    loading package ic...\n",
      "    loading package npf...\n",
      "    loading package riv...\n",
      "    loading package obs...\n",
      "    loading package wel...\n",
      "    loading package chd...\n",
      "    loading package sto...\n",
      "    loading package rch...\n",
      "    loading package oc...\n",
      "    loading package rch...\n",
      "  loading model gwt6...\n",
      "    loading package dis...\n",
      "    loading package ic...\n",
      "    loading package adv...\n",
      "    loading package dsp...\n",
      "    loading package mst...\n",
      "    loading package ist...\n",
      "    loading package ssm...\n",
      "    loading package obs...\n",
      "    loading package oc...\n",
      "  loading model gwt6...\n",
      "    loading package dis...\n",
      "    loading package ic...\n",
      "    loading package adv...\n",
      "    loading package dsp...\n",
      "    loading package ist...\n",
      "    loading package mst...\n",
      "    loading package ssm...\n",
      "    loading package obs...\n",
      "    loading package oc...\n",
      "  loading model gwt6...\n",
      "    loading package dis...\n",
      "    loading package ic...\n",
      "    loading package adv...\n",
      "    loading package dsp...\n",
      "    loading package ist...\n",
      "    loading package mst...\n",
      "    loading package ssm...\n",
      "    loading package obs...\n",
      "    loading package oc...\n",
      "  loading exchange package gwf-gwt_exg_0...\n",
      "  loading exchange package gwf-gwt_exg_1...\n",
      "  loading exchange package gwf-gwt_exg_2...\n",
      "  loading solution package peterson_flow...\n",
      "  loading solution package peterson_pfos...\n",
      "  loading solution package peterson_pfoa...\n",
      "  loading solution package peterson_pfhxs...\n"
     ]
    }
   ],
   "source": [
    "# load simulation\n",
    "sim = flopy.mf6.MFSimulation.load(sim_ws=tmp_d)\n",
    "# load flow model\n",
    "gwf = sim.get_model('peterson_flow')"
   ]
  },
  {
   "cell_type": "markdown",
   "id": "96d14e02-2009-4211-bc7f-154ebf4164f4",
   "metadata": {},
   "source": [
    "### Spatial Reference"
   ]
  },
  {
   "cell_type": "markdown",
   "id": "308f5951-2370-4d3b-bfdd-e787cae62022",
   "metadata": {},
   "source": [
    "Now we can instantiate a SpatialReference. This will later be passed to PstFrom to assist with spatially locating parameters (e.g. pilot points and/or cell-by-cell parameters). You can also use the flopy modelgrid class instance that is attached to the simulation, but SpatialReference is cleaner and faster for structured grids..."
   ]
  },
  {
   "cell_type": "code",
   "execution_count": 4,
   "id": "ae9c02d9-405d-4d0d-947f-6c3f526cacbc",
   "metadata": {},
   "outputs": [
    {
     "name": "stdout",
     "output_type": "stream",
     "text": [
      "   could not remove start_datetime\n"
     ]
    },
    {
     "data": {
      "text/plain": [
       "xul:0; yul:19440; rotation:0; proj4_str:None; units:meters; lenuni:2; length_multiplier:1.0"
      ]
     },
     "execution_count": 4,
     "metadata": {},
     "output_type": "execute_result"
    }
   ],
   "source": [
    "sr = pyemu.helpers.SpatialReference.from_namfile(\n",
    "        os.path.join(tmp_d, \"peterson_flow.nam\"),\n",
    "        delr=gwf.dis.delr.array, delc=gwf.dis.delc.array)\n",
    "sr"
   ]
  },
  {
   "cell_type": "markdown",
   "id": "07fda296-14dd-474b-85cd-091a208a179f",
   "metadata": {},
   "source": [
    "### Instantiate PstFrom"
   ]
  },
  {
   "cell_type": "markdown",
   "id": "de5ac9af-f771-47ac-a936-cc6c4a08dc34",
   "metadata": {},
   "source": [
    "Now we can start to construct the PEST(++) interface by instantiating a PstFrom class instance. There are a few things that we need to specify up front:\n",
    "\n",
    "the folder in which we currently have model files (e.g. tmp_d). PstFrom will copy all the files from this directory into a new \"template\" folder.\n",
    "\n",
    "template folder: this is a folder in which the PEST dataset will be constructed - this folder will hold the model files plus all of the files needed to run PEST(++). This folder/dataset will form the template for subsequent deployment of PEST(++).\n",
    "\n",
    "longnames: for backwards compatibility with PEST and PEST_HP (i.e. non-PEST++ versions), which have upper limits to parameter/observation names (PEST++ does not). Setting this value to False is only recommended if required.\n",
    "\n",
    "Whether the model is zero based or not.\n",
    "\n",
    "(optional) the spatial reference, as previously discussed. This is only required if using pyEMU to define parameter spatial correlation. Alternatively, you can define these yourself or use utilities available in the PEST-suite."
   ]
  },
  {
   "cell_type": "code",
   "execution_count": 5,
   "id": "dfffb710-da92-4f8b-beb5-da544de4c340",
   "metadata": {},
   "outputs": [],
   "source": [
    "# specify a template directory (i.e. the PstFrom working folder)\n",
    "template_ws = os.path.join('..','peterson_template')\n",
    "start_datetime=\"1-1-1970\"\n",
    "# instantiate PstFrom\n",
    "pf = pyemu.utils.PstFrom(original_d=tmp_d, # where the model is stored\n",
    "                            new_d=template_ws, # the PEST template folder\n",
    "                            remove_existing=True, # ensures a clean start\n",
    "                            longnames=True, # set False if using PEST/PEST_HP\n",
    "                            spatial_reference=sr, #the spatial reference we generated earlier\n",
    "                            zero_based=False, # does the MODEL use zero based indices? For example, MODFLOW does NOT\n",
    "                            start_datetime=start_datetime, # required when specifying temporal correlation between parameters\n",
    "                            echo=False) # to stop PstFrom from writting lots of infromation to the notebook; experiment by setting it as True to see the difference; usefull for troubleshooting\n",
    "     "
   ]
  },
  {
   "cell_type": "markdown",
   "id": "e5961d3b-886d-48f0-a144-c489662f2a32",
   "metadata": {},
   "source": [
    "### Observations"
   ]
  },
  {
   "cell_type": "code",
   "execution_count": 6,
   "id": "2cd232c4-80ae-4985-b790-0b3d46186900",
   "metadata": {},
   "outputs": [
    {
     "data": {
      "text/html": [
       "<div>\n",
       "<style scoped>\n",
       "    .dataframe tbody tr th:only-of-type {\n",
       "        vertical-align: middle;\n",
       "    }\n",
       "\n",
       "    .dataframe tbody tr th {\n",
       "        vertical-align: top;\n",
       "    }\n",
       "\n",
       "    .dataframe thead th {\n",
       "        text-align: right;\n",
       "    }\n",
       "</style>\n",
       "<table border=\"1\" class=\"dataframe\">\n",
       "  <thead>\n",
       "    <tr style=\"text-align: right;\">\n",
       "      <th></th>\n",
       "      <th>FOUNTAINNO.1</th>\n",
       "      <th>SC01406518ACDT02-MW006</th>\n",
       "      <th>SC01406518CAAMW1-1</th>\n",
       "      <th>SC01406519ABDT04-MW004</th>\n",
       "      <th>SC01406519BBBT01-MW002</th>\n",
       "      <th>SC01406520CDBMW2-4</th>\n",
       "      <th>SC01406527ACB1</th>\n",
       "      <th>SC01406527DDB1BANNING-LEWISRANCHES</th>\n",
       "      <th>SC01406527DDB2</th>\n",
       "      <th>SC01406527DDC1</th>\n",
       "      <th>...</th>\n",
       "      <th>SCO1506602BBBTH-18</th>\n",
       "      <th>SCO1506602BDC</th>\n",
       "      <th>SCO1506602CAA</th>\n",
       "      <th>SCO1506603AAD</th>\n",
       "      <th>SCO1506603BAC</th>\n",
       "      <th>SCO1506604AAA</th>\n",
       "      <th>SCO1506604AABTH-49</th>\n",
       "      <th>SCO1506604ABA2TH-50</th>\n",
       "      <th>SCO1506610BAA</th>\n",
       "      <th>SCO1506611ABCTH-47</th>\n",
       "    </tr>\n",
       "    <tr>\n",
       "      <th>time</th>\n",
       "      <th></th>\n",
       "      <th></th>\n",
       "      <th></th>\n",
       "      <th></th>\n",
       "      <th></th>\n",
       "      <th></th>\n",
       "      <th></th>\n",
       "      <th></th>\n",
       "      <th></th>\n",
       "      <th></th>\n",
       "      <th></th>\n",
       "      <th></th>\n",
       "      <th></th>\n",
       "      <th></th>\n",
       "      <th></th>\n",
       "      <th></th>\n",
       "      <th></th>\n",
       "      <th></th>\n",
       "      <th></th>\n",
       "      <th></th>\n",
       "      <th></th>\n",
       "    </tr>\n",
       "  </thead>\n",
       "  <tbody>\n",
       "    <tr>\n",
       "      <th>59.0</th>\n",
       "      <td>1682.008938</td>\n",
       "      <td>1885.455707</td>\n",
       "      <td>1880.476784</td>\n",
       "      <td>1846.441150</td>\n",
       "      <td>1867.342818</td>\n",
       "      <td>1820.508540</td>\n",
       "      <td>1819.618737</td>\n",
       "      <td>1811.985088</td>\n",
       "      <td>1809.927554</td>\n",
       "      <td>1807.807384</td>\n",
       "      <td>...</td>\n",
       "      <td>1774.684131</td>\n",
       "      <td>1766.093697</td>\n",
       "      <td>1764.109938</td>\n",
       "      <td>1768.602674</td>\n",
       "      <td>1761.823488</td>\n",
       "      <td>1763.989972</td>\n",
       "      <td>1762.171530</td>\n",
       "      <td>1762.211240</td>\n",
       "      <td>1749.539323</td>\n",
       "      <td>1748.027540</td>\n",
       "    </tr>\n",
       "    <tr>\n",
       "      <th>89.0</th>\n",
       "      <td>1681.974905</td>\n",
       "      <td>1885.462255</td>\n",
       "      <td>1880.499818</td>\n",
       "      <td>1846.617592</td>\n",
       "      <td>1867.418896</td>\n",
       "      <td>1820.666800</td>\n",
       "      <td>1819.803424</td>\n",
       "      <td>1812.116151</td>\n",
       "      <td>1810.104955</td>\n",
       "      <td>1807.958309</td>\n",
       "      <td>...</td>\n",
       "      <td>1774.669078</td>\n",
       "      <td>1766.102305</td>\n",
       "      <td>1764.116961</td>\n",
       "      <td>1768.600017</td>\n",
       "      <td>1761.804051</td>\n",
       "      <td>1763.760061</td>\n",
       "      <td>1762.476564</td>\n",
       "      <td>1762.556356</td>\n",
       "      <td>1749.539900</td>\n",
       "      <td>1748.027649</td>\n",
       "    </tr>\n",
       "    <tr>\n",
       "      <th>274.0</th>\n",
       "      <td>1681.873247</td>\n",
       "      <td>1885.508854</td>\n",
       "      <td>1880.638585</td>\n",
       "      <td>1847.974243</td>\n",
       "      <td>1867.743335</td>\n",
       "      <td>1823.289603</td>\n",
       "      <td>1819.821606</td>\n",
       "      <td>1812.459523</td>\n",
       "      <td>1810.563878</td>\n",
       "      <td>1808.437779</td>\n",
       "      <td>...</td>\n",
       "      <td>1773.904142</td>\n",
       "      <td>1765.801899</td>\n",
       "      <td>1764.144266</td>\n",
       "      <td>1768.069533</td>\n",
       "      <td>1761.448278</td>\n",
       "      <td>1763.336524</td>\n",
       "      <td>1762.390345</td>\n",
       "      <td>1762.499652</td>\n",
       "      <td>1749.534359</td>\n",
       "      <td>1748.045605</td>\n",
       "    </tr>\n",
       "    <tr>\n",
       "      <th>304.0</th>\n",
       "      <td>1681.815335</td>\n",
       "      <td>1885.505131</td>\n",
       "      <td>1880.617374</td>\n",
       "      <td>1847.998486</td>\n",
       "      <td>1867.676975</td>\n",
       "      <td>1823.745726</td>\n",
       "      <td>1819.825250</td>\n",
       "      <td>1812.494202</td>\n",
       "      <td>1810.620196</td>\n",
       "      <td>1808.503853</td>\n",
       "      <td>...</td>\n",
       "      <td>1773.823395</td>\n",
       "      <td>1765.757825</td>\n",
       "      <td>1764.146199</td>\n",
       "      <td>1768.007516</td>\n",
       "      <td>1761.393172</td>\n",
       "      <td>1763.287701</td>\n",
       "      <td>1762.378165</td>\n",
       "      <td>1762.491362</td>\n",
       "      <td>1749.531093</td>\n",
       "      <td>1748.048874</td>\n",
       "    </tr>\n",
       "    <tr>\n",
       "      <th>365.0</th>\n",
       "      <td>1681.780126</td>\n",
       "      <td>1885.510489</td>\n",
       "      <td>1880.600005</td>\n",
       "      <td>1848.736070</td>\n",
       "      <td>1867.586417</td>\n",
       "      <td>1826.001585</td>\n",
       "      <td>1819.829021</td>\n",
       "      <td>1812.577400</td>\n",
       "      <td>1810.728309</td>\n",
       "      <td>1808.626432</td>\n",
       "      <td>...</td>\n",
       "      <td>1773.396564</td>\n",
       "      <td>1765.551692</td>\n",
       "      <td>1764.126777</td>\n",
       "      <td>1767.656459</td>\n",
       "      <td>1761.256686</td>\n",
       "      <td>1763.174787</td>\n",
       "      <td>1762.351467</td>\n",
       "      <td>1762.473243</td>\n",
       "      <td>1749.521342</td>\n",
       "      <td>1748.056918</td>\n",
       "    </tr>\n",
       "  </tbody>\n",
       "</table>\n",
       "<p>5 rows × 149 columns</p>\n",
       "</div>"
      ],
      "text/plain": [
       "       FOUNTAINNO.1  SC01406518ACDT02-MW006  SC01406518CAAMW1-1  \\\n",
       "time                                                              \n",
       "59.0    1682.008938             1885.455707         1880.476784   \n",
       "89.0    1681.974905             1885.462255         1880.499818   \n",
       "274.0   1681.873247             1885.508854         1880.638585   \n",
       "304.0   1681.815335             1885.505131         1880.617374   \n",
       "365.0   1681.780126             1885.510489         1880.600005   \n",
       "\n",
       "       SC01406519ABDT04-MW004  SC01406519BBBT01-MW002  SC01406520CDBMW2-4  \\\n",
       "time                                                                        \n",
       "59.0              1846.441150             1867.342818         1820.508540   \n",
       "89.0              1846.617592             1867.418896         1820.666800   \n",
       "274.0             1847.974243             1867.743335         1823.289603   \n",
       "304.0             1847.998486             1867.676975         1823.745726   \n",
       "365.0             1848.736070             1867.586417         1826.001585   \n",
       "\n",
       "       SC01406527ACB1  SC01406527DDB1BANNING-LEWISRANCHES  SC01406527DDB2  \\\n",
       "time                                                                        \n",
       "59.0      1819.618737                         1811.985088     1809.927554   \n",
       "89.0      1819.803424                         1812.116151     1810.104955   \n",
       "274.0     1819.821606                         1812.459523     1810.563878   \n",
       "304.0     1819.825250                         1812.494202     1810.620196   \n",
       "365.0     1819.829021                         1812.577400     1810.728309   \n",
       "\n",
       "       SC01406527DDC1  ...  SCO1506602BBBTH-18  SCO1506602BDC  SCO1506602CAA  \\\n",
       "time                   ...                                                     \n",
       "59.0      1807.807384  ...         1774.684131    1766.093697    1764.109938   \n",
       "89.0      1807.958309  ...         1774.669078    1766.102305    1764.116961   \n",
       "274.0     1808.437779  ...         1773.904142    1765.801899    1764.144266   \n",
       "304.0     1808.503853  ...         1773.823395    1765.757825    1764.146199   \n",
       "365.0     1808.626432  ...         1773.396564    1765.551692    1764.126777   \n",
       "\n",
       "       SCO1506603AAD  SCO1506603BAC  SCO1506604AAA  SCO1506604AABTH-49  \\\n",
       "time                                                                     \n",
       "59.0     1768.602674    1761.823488    1763.989972         1762.171530   \n",
       "89.0     1768.600017    1761.804051    1763.760061         1762.476564   \n",
       "274.0    1768.069533    1761.448278    1763.336524         1762.390345   \n",
       "304.0    1768.007516    1761.393172    1763.287701         1762.378165   \n",
       "365.0    1767.656459    1761.256686    1763.174787         1762.351467   \n",
       "\n",
       "       SCO1506604ABA2TH-50  SCO1506610BAA  SCO1506611ABCTH-47  \n",
       "time                                                           \n",
       "59.0           1762.211240    1749.539323         1748.027540  \n",
       "89.0           1762.556356    1749.539900         1748.027649  \n",
       "274.0          1762.499652    1749.534359         1748.045605  \n",
       "304.0          1762.491362    1749.531093         1748.048874  \n",
       "365.0          1762.473243    1749.521342         1748.056918  \n",
       "\n",
       "[5 rows x 149 columns]"
      ]
     },
     "execution_count": 6,
     "metadata": {},
     "output_type": "execute_result"
    }
   ],
   "source": [
    "head_df = pd.read_csv(os.path.join('..', 'output-files','head_obs.csv'),index_col=0)\n",
    "head_df.columns = head_df.columns.str.replace(\" \", \"\")\n",
    "head_df.to_csv('../output-files/head_obs.csv')\n",
    "head_df.head()\n",
    "     "
   ]
  },
  {
   "cell_type": "markdown",
   "id": "95f5911d-4111-4222-8c09-766e176ce608",
   "metadata": {},
   "source": [
    "### Adding Observations"
   ]
  },
  {
   "cell_type": "markdown",
   "id": "788203e3-789c-40d8-9490-6c88f0ed1e01",
   "metadata": {},
   "source": [
    "First, we will use the PstFrom.add_observations() method to add observations to our pf object. This method can use list-type files, where the data are organized in column/tabular format with one or more index columns and one or more data columns. This method can also use array-type files, where the data are organized in a 2-D array structure (we will see this one later...)\n",
    "\n",
    "We are going to tell pf which columns of this file contain observations. Values in these columns will be assigned to observation values.\n",
    "\n",
    "We can also inform it if there is an index column (or columns). Values in this column will be included in the observation names.\n",
    "\n",
    "We could also specify which rows to include as observations. But observations are free...so why not keep them all!\n",
    "\n",
    "Let's add observations from heads.csv. The first column of this file records the time at which the value is simulated. Let's use that as the index column (this becomes useful later on to post-process results). We want all other columns as observation values."
   ]
  },
  {
   "cell_type": "code",
   "execution_count": 10,
   "id": "855dc621-1b55-4cbc-aeaa-bbb4086279d2",
   "metadata": {},
   "outputs": [],
   "source": [
    "hds_df = pf.add_observations('../output-files/head_obs.csv', # the model output file to read\n",
    "                            insfile=\"head_obs.csv.ins\", #optional, the instruction file name\n",
    "                            index_cols=\"time\", #column header to use as index; can also use column number (zero-based) instead of the header name\n",
    "                            use_cols=list(head_df.columns.values), #names of columns that include observation values; can also use column number (zero-based) instead of the header name\n",
    "                            prefix=\"hds\") #prefix to all observation names; choose something logical and easy to find. We use it later on to select obsevrations\n",
    "     "
   ]
  },
  {
   "cell_type": "code",
   "execution_count": 11,
   "id": "d7954264-5506-4ad7-9101-0a45244ba666",
   "metadata": {},
   "outputs": [
    {
     "data": {
      "text/html": [
       "<div>\n",
       "<style scoped>\n",
       "    .dataframe tbody tr th:only-of-type {\n",
       "        vertical-align: middle;\n",
       "    }\n",
       "\n",
       "    .dataframe tbody tr th {\n",
       "        vertical-align: top;\n",
       "    }\n",
       "\n",
       "    .dataframe thead th {\n",
       "        text-align: right;\n",
       "    }\n",
       "</style>\n",
       "<table border=\"1\" class=\"dataframe\">\n",
       "  <thead>\n",
       "    <tr style=\"text-align: right;\">\n",
       "      <th></th>\n",
       "      <th>obsnme</th>\n",
       "      <th>obsval</th>\n",
       "      <th>weight</th>\n",
       "      <th>obgnme</th>\n",
       "    </tr>\n",
       "  </thead>\n",
       "  <tbody>\n",
       "    <tr>\n",
       "      <th>oname:hds_otype:lst_usecol:fountainno.1_time:10013</th>\n",
       "      <td>oname:hds_otype:lst_usecol:fountainno.1_time:10013</td>\n",
       "      <td>1680.901492</td>\n",
       "      <td>1.0</td>\n",
       "      <td>oname:hds_otype:lst_usecol:fountainno.1</td>\n",
       "    </tr>\n",
       "    <tr>\n",
       "      <th>oname:hds_otype:lst_usecol:fountainno.1_time:10043</th>\n",
       "      <td>oname:hds_otype:lst_usecol:fountainno.1_time:10043</td>\n",
       "      <td>1680.897982</td>\n",
       "      <td>1.0</td>\n",
       "      <td>oname:hds_otype:lst_usecol:fountainno.1</td>\n",
       "    </tr>\n",
       "    <tr>\n",
       "      <th>oname:hds_otype:lst_usecol:fountainno.1_time:1005</th>\n",
       "      <td>oname:hds_otype:lst_usecol:fountainno.1_time:1005</td>\n",
       "      <td>1681.077804</td>\n",
       "      <td>1.0</td>\n",
       "      <td>oname:hds_otype:lst_usecol:fountainno.1</td>\n",
       "    </tr>\n",
       "    <tr>\n",
       "      <th>oname:hds_otype:lst_usecol:fountainno.1_time:10074</th>\n",
       "      <td>oname:hds_otype:lst_usecol:fountainno.1_time:10074</td>\n",
       "      <td>1680.901185</td>\n",
       "      <td>1.0</td>\n",
       "      <td>oname:hds_otype:lst_usecol:fountainno.1</td>\n",
       "    </tr>\n",
       "    <tr>\n",
       "      <th>oname:hds_otype:lst_usecol:fountainno.1_time:10105</th>\n",
       "      <td>oname:hds_otype:lst_usecol:fountainno.1_time:10105</td>\n",
       "      <td>1680.412359</td>\n",
       "      <td>1.0</td>\n",
       "      <td>oname:hds_otype:lst_usecol:fountainno.1</td>\n",
       "    </tr>\n",
       "  </tbody>\n",
       "</table>\n",
       "</div>"
      ],
      "text/plain": [
       "                                                                                                obsnme  \\\n",
       "oname:hds_otype:lst_usecol:fountainno.1_time:10013  oname:hds_otype:lst_usecol:fountainno.1_time:10013   \n",
       "oname:hds_otype:lst_usecol:fountainno.1_time:10043  oname:hds_otype:lst_usecol:fountainno.1_time:10043   \n",
       "oname:hds_otype:lst_usecol:fountainno.1_time:1005    oname:hds_otype:lst_usecol:fountainno.1_time:1005   \n",
       "oname:hds_otype:lst_usecol:fountainno.1_time:10074  oname:hds_otype:lst_usecol:fountainno.1_time:10074   \n",
       "oname:hds_otype:lst_usecol:fountainno.1_time:10105  oname:hds_otype:lst_usecol:fountainno.1_time:10105   \n",
       "\n",
       "                                                         obsval  weight  \\\n",
       "oname:hds_otype:lst_usecol:fountainno.1_time:10013  1680.901492     1.0   \n",
       "oname:hds_otype:lst_usecol:fountainno.1_time:10043  1680.897982     1.0   \n",
       "oname:hds_otype:lst_usecol:fountainno.1_time:1005   1681.077804     1.0   \n",
       "oname:hds_otype:lst_usecol:fountainno.1_time:10074  1680.901185     1.0   \n",
       "oname:hds_otype:lst_usecol:fountainno.1_time:10105  1680.412359     1.0   \n",
       "\n",
       "                                                                                     obgnme  \n",
       "oname:hds_otype:lst_usecol:fountainno.1_time:10013  oname:hds_otype:lst_usecol:fountainno.1  \n",
       "oname:hds_otype:lst_usecol:fountainno.1_time:10043  oname:hds_otype:lst_usecol:fountainno.1  \n",
       "oname:hds_otype:lst_usecol:fountainno.1_time:1005   oname:hds_otype:lst_usecol:fountainno.1  \n",
       "oname:hds_otype:lst_usecol:fountainno.1_time:10074  oname:hds_otype:lst_usecol:fountainno.1  \n",
       "oname:hds_otype:lst_usecol:fountainno.1_time:10105  oname:hds_otype:lst_usecol:fountainno.1  "
      ]
     },
     "execution_count": 11,
     "metadata": {},
     "output_type": "execute_result"
    }
   ],
   "source": [
    "hds_df.head()   "
   ]
  },
  {
   "cell_type": "code",
   "execution_count": 18,
   "id": "76370223-c4c1-4b70-a203-ea932bcd44f4",
   "metadata": {},
   "outputs": [
    {
     "data": {
      "text/plain": [
       "['head_obs.csv.ins',\n",
       " 'pfhxs_obs.csv.ins',\n",
       " 'pfoa_obs.csv.ins',\n",
       " 'pfos_obs.csv.ins']"
      ]
     },
     "execution_count": 18,
     "metadata": {},
     "output_type": "execute_result"
    }
   ],
   "source": [
    "[f for f in os.listdir(template_ws) if f.endswith(\".ins\")]"
   ]
  },
  {
   "cell_type": "markdown",
   "id": "d5e22478-4955-42dd-a01e-75c93e8a24ee",
   "metadata": {},
   "source": [
    "### Add Parameters"
   ]
  },
  {
   "cell_type": "markdown",
   "id": "83f60045-bbc8-42a4-b28e-e4b4e48eae37",
   "metadata": {},
   "source": [
    "Let's start by adding parameters of hydraulic properties that vary in space (but not time) and which are housed in array-type files (e.g. Kh, Kv, Ss, Sy). We will start by demonstrating step-by-step for Kh."
   ]
  },
  {
   "cell_type": "code",
   "execution_count": 19,
   "id": "66840221-fa5a-428a-b085-3a42ce846b8e",
   "metadata": {},
   "outputs": [
    {
     "data": {
      "text/plain": [
       "<matplotlib.image.AxesImage at 0x2feb20705c0>"
      ]
     },
     "execution_count": 19,
     "metadata": {},
     "output_type": "execute_result"
    },
    {
     "data": {
      "image/png": "[encoded data removed]",
      "text/plain": [
       "<Figure size 640x480 with 1 Axes>"
      ]
     },
     "metadata": {},
     "output_type": "display_data"
    }
   ],
   "source": [
    "# get the IIDOMAIN array; in our case we only have one layer\n",
    "ib = gwf.dis.idomain.array[0]\n",
    "plt.imshow(ib)    "
   ]
  },
  {
   "cell_type": "code",
   "execution_count": 20,
   "id": "085ab433-0030-4e76-b69b-a73d7c717609",
   "metadata": {},
   "outputs": [
    {
     "data": {
      "text/plain": [
       "array([[0., 0., 0., ..., 2., 2., 2.],\n",
       "       [0., 0., 0., ..., 2., 2., 2.],\n",
       "       [0., 0., 0., ..., 2., 2., 2.],\n",
       "       ...,\n",
       "       [0., 0., 0., ..., 0., 0., 0.],\n",
       "       [0., 0., 0., ..., 0., 0., 0.],\n",
       "       [0., 0., 0., ..., 0., 0., 0.]])"
      ]
     },
     "execution_count": 20,
     "metadata": {},
     "output_type": "execute_result"
    }
   ],
   "source": [
    "zones_matrix = np.loadtxt(os.path.join('..', 'peterson_template','data-files','rchZones.dat'))\n",
    "zones = np.where(np.isin(zones_matrix, [2, 3,4,5]), zones_matrix, 0)\n",
    "zones"
   ]
  },
  {
   "cell_type": "code",
   "execution_count": 21,
   "id": "8b5df0fd-cf79-4d55-b792-a5e603c2ef74",
   "metadata": {},
   "outputs": [
    {
     "data": {
      "text/html": [
       "<div>\n",
       "<style scoped>\n",
       "    .dataframe tbody tr th:only-of-type {\n",
       "        vertical-align: middle;\n",
       "    }\n",
       "\n",
       "    .dataframe tbody tr th {\n",
       "        vertical-align: top;\n",
       "    }\n",
       "\n",
       "    .dataframe thead th {\n",
       "        text-align: right;\n",
       "    }\n",
       "</style>\n",
       "<table border=\"1\" class=\"dataframe\">\n",
       "  <thead>\n",
       "    <tr style=\"text-align: right;\">\n",
       "      <th></th>\n",
       "      <th>parnme</th>\n",
       "      <th>parval1</th>\n",
       "      <th>pargp</th>\n",
       "      <th>tpl_filename</th>\n",
       "      <th>input_filename</th>\n",
       "      <th>partype</th>\n",
       "      <th>partrans</th>\n",
       "      <th>parubnd</th>\n",
       "      <th>parlbnd</th>\n",
       "      <th>parchglim</th>\n",
       "      <th>offset</th>\n",
       "      <th>scale</th>\n",
       "      <th>dercom</th>\n",
       "    </tr>\n",
       "  </thead>\n",
       "  <tbody>\n",
       "    <tr>\n",
       "      <th>pname:rch_inst:0_ptype:zn_pstyle:m_zone:5.0</th>\n",
       "      <td>pname:rch_inst:0_ptype:zn_pstyle:m_zone:5.0</td>\n",
       "      <td>1.0</td>\n",
       "      <td>rch_inst:0</td>\n",
       "      <td>..\\peterson_template\\rch_inst0_zone.csv.tpl</td>\n",
       "      <td>..\\peterson_template\\mult\\rch_inst0_zone.csv</td>\n",
       "      <td>zone</td>\n",
       "      <td>log</td>\n",
       "      <td>0.2</td>\n",
       "      <td>0</td>\n",
       "      <td>factor</td>\n",
       "      <td>0.0</td>\n",
       "      <td>1.0</td>\n",
       "      <td>1</td>\n",
       "    </tr>\n",
       "    <tr>\n",
       "      <th>pname:rch_inst:0_ptype:zn_pstyle:m_zone:2.0</th>\n",
       "      <td>pname:rch_inst:0_ptype:zn_pstyle:m_zone:2.0</td>\n",
       "      <td>1.0</td>\n",
       "      <td>rch_inst:0</td>\n",
       "      <td>..\\peterson_template\\rch_inst0_zone.csv.tpl</td>\n",
       "      <td>..\\peterson_template\\mult\\rch_inst0_zone.csv</td>\n",
       "      <td>zone</td>\n",
       "      <td>log</td>\n",
       "      <td>0.2</td>\n",
       "      <td>0</td>\n",
       "      <td>factor</td>\n",
       "      <td>0.0</td>\n",
       "      <td>1.0</td>\n",
       "      <td>1</td>\n",
       "    </tr>\n",
       "    <tr>\n",
       "      <th>pname:rch_inst:0_ptype:zn_pstyle:m_zone:3.0</th>\n",
       "      <td>pname:rch_inst:0_ptype:zn_pstyle:m_zone:3.0</td>\n",
       "      <td>1.0</td>\n",
       "      <td>rch_inst:0</td>\n",
       "      <td>..\\peterson_template\\rch_inst0_zone.csv.tpl</td>\n",
       "      <td>..\\peterson_template\\mult\\rch_inst0_zone.csv</td>\n",
       "      <td>zone</td>\n",
       "      <td>log</td>\n",
       "      <td>0.2</td>\n",
       "      <td>0</td>\n",
       "      <td>factor</td>\n",
       "      <td>0.0</td>\n",
       "      <td>1.0</td>\n",
       "      <td>1</td>\n",
       "    </tr>\n",
       "    <tr>\n",
       "      <th>pname:rch_inst:0_ptype:zn_pstyle:m_zone:4.0</th>\n",
       "      <td>pname:rch_inst:0_ptype:zn_pstyle:m_zone:4.0</td>\n",
       "      <td>1.0</td>\n",
       "      <td>rch_inst:0</td>\n",
       "      <td>..\\peterson_template\\rch_inst0_zone.csv.tpl</td>\n",
       "      <td>..\\peterson_template\\mult\\rch_inst0_zone.csv</td>\n",
       "      <td>zone</td>\n",
       "      <td>log</td>\n",
       "      <td>0.2</td>\n",
       "      <td>0</td>\n",
       "      <td>factor</td>\n",
       "      <td>0.0</td>\n",
       "      <td>1.0</td>\n",
       "      <td>1</td>\n",
       "    </tr>\n",
       "  </tbody>\n",
       "</table>\n",
       "</div>"
      ],
      "text/plain": [
       "                                                                                  parnme  \\\n",
       "pname:rch_inst:0_ptype:zn_pstyle:m_zone:5.0  pname:rch_inst:0_ptype:zn_pstyle:m_zone:5.0   \n",
       "pname:rch_inst:0_ptype:zn_pstyle:m_zone:2.0  pname:rch_inst:0_ptype:zn_pstyle:m_zone:2.0   \n",
       "pname:rch_inst:0_ptype:zn_pstyle:m_zone:3.0  pname:rch_inst:0_ptype:zn_pstyle:m_zone:3.0   \n",
       "pname:rch_inst:0_ptype:zn_pstyle:m_zone:4.0  pname:rch_inst:0_ptype:zn_pstyle:m_zone:4.0   \n",
       "\n",
       "                                             parval1       pargp  \\\n",
       "pname:rch_inst:0_ptype:zn_pstyle:m_zone:5.0      1.0  rch_inst:0   \n",
       "pname:rch_inst:0_ptype:zn_pstyle:m_zone:2.0      1.0  rch_inst:0   \n",
       "pname:rch_inst:0_ptype:zn_pstyle:m_zone:3.0      1.0  rch_inst:0   \n",
       "pname:rch_inst:0_ptype:zn_pstyle:m_zone:4.0      1.0  rch_inst:0   \n",
       "\n",
       "                                                                            tpl_filename  \\\n",
       "pname:rch_inst:0_ptype:zn_pstyle:m_zone:5.0  ..\\peterson_template\\rch_inst0_zone.csv.tpl   \n",
       "pname:rch_inst:0_ptype:zn_pstyle:m_zone:2.0  ..\\peterson_template\\rch_inst0_zone.csv.tpl   \n",
       "pname:rch_inst:0_ptype:zn_pstyle:m_zone:3.0  ..\\peterson_template\\rch_inst0_zone.csv.tpl   \n",
       "pname:rch_inst:0_ptype:zn_pstyle:m_zone:4.0  ..\\peterson_template\\rch_inst0_zone.csv.tpl   \n",
       "\n",
       "                                                                           input_filename  \\\n",
       "pname:rch_inst:0_ptype:zn_pstyle:m_zone:5.0  ..\\peterson_template\\mult\\rch_inst0_zone.csv   \n",
       "pname:rch_inst:0_ptype:zn_pstyle:m_zone:2.0  ..\\peterson_template\\mult\\rch_inst0_zone.csv   \n",
       "pname:rch_inst:0_ptype:zn_pstyle:m_zone:3.0  ..\\peterson_template\\mult\\rch_inst0_zone.csv   \n",
       "pname:rch_inst:0_ptype:zn_pstyle:m_zone:4.0  ..\\peterson_template\\mult\\rch_inst0_zone.csv   \n",
       "\n",
       "                                            partype partrans  parubnd  \\\n",
       "pname:rch_inst:0_ptype:zn_pstyle:m_zone:5.0    zone      log      0.2   \n",
       "pname:rch_inst:0_ptype:zn_pstyle:m_zone:2.0    zone      log      0.2   \n",
       "pname:rch_inst:0_ptype:zn_pstyle:m_zone:3.0    zone      log      0.2   \n",
       "pname:rch_inst:0_ptype:zn_pstyle:m_zone:4.0    zone      log      0.2   \n",
       "\n",
       "                                             parlbnd parchglim  offset  scale  \\\n",
       "pname:rch_inst:0_ptype:zn_pstyle:m_zone:5.0        0    factor     0.0    1.0   \n",
       "pname:rch_inst:0_ptype:zn_pstyle:m_zone:2.0        0    factor     0.0    1.0   \n",
       "pname:rch_inst:0_ptype:zn_pstyle:m_zone:3.0        0    factor     0.0    1.0   \n",
       "pname:rch_inst:0_ptype:zn_pstyle:m_zone:4.0        0    factor     0.0    1.0   \n",
       "\n",
       "                                             dercom  \n",
       "pname:rch_inst:0_ptype:zn_pstyle:m_zone:5.0       1  \n",
       "pname:rch_inst:0_ptype:zn_pstyle:m_zone:2.0       1  \n",
       "pname:rch_inst:0_ptype:zn_pstyle:m_zone:3.0       1  \n",
       "pname:rch_inst:0_ptype:zn_pstyle:m_zone:4.0       1  "
      ]
     },
     "execution_count": 21,
     "metadata": {},
     "output_type": "execute_result"
    }
   ],
   "source": [
    "f= os.path.join('..', 'peterson_template','data-files','flow-recharge-mult.dat')\n",
    "pf.add_parameters(\n",
    "    f,\n",
    "    par_type=\"zone\",\n",
    "    par_name_base=\"rch\",\n",
    "    zone_array=zones,\n",
    "    upper_bound=0.2,\n",
    "    lower_bound=0,\n",
    "    transform= \"log\"\n",
    ")"
   ]
  },
  {
   "cell_type": "code",
   "execution_count": 26,
   "id": "91d6097e-d8cc-4db8-969f-e6f7708b3e9f",
   "metadata": {},
   "outputs": [
    {
     "data": {
      "text/plain": [
       "['im_inst0_zone.csv.tpl',\n",
       " 'kd1_inst0_zone.csv.tpl',\n",
       " 'kd2_inst0_zone.csv.tpl',\n",
       " 'kd3_inst0_zone.csv.tpl',\n",
       " 'rch_inst0_zone.csv.tpl']"
      ]
     },
     "execution_count": 26,
     "metadata": {},
     "output_type": "execute_result"
    }
   ],
   "source": [
    "[f for f in os.listdir(template_ws) if f.endswith(\".tpl\")]"
   ]
  },
  {
   "cell_type": "markdown",
   "id": "f5c9b4b7-1a37-46a2-903c-e9d4e936122b",
   "metadata": {},
   "source": [
    "### The Forward Run Script"
   ]
  },
  {
   "cell_type": "code",
   "execution_count": 27,
   "id": "5545c475-7480-44f6-adbc-54bf46349fde",
   "metadata": {},
   "outputs": [
    {
     "name": "stdout",
     "output_type": "stream",
     "text": [
      "noptmax:0, npar_adj:20, nnz_obs:274736\n"
     ]
    }
   ],
   "source": [
    "pst = pf.build_pst()"
   ]
  },
  {
   "cell_type": "code",
   "execution_count": 28,
   "id": "d938c8e2-0b57-43ae-8d78-9fbef05ea693",
   "metadata": {},
   "outputs": [
    {
     "data": {
      "text/plain": [
       "['forward_run.py', 'peterson_mf6.pst']"
      ]
     },
     "execution_count": 28,
     "metadata": {},
     "output_type": "execute_result"
    }
   ],
   "source": [
    "[f for f in os.listdir(template_ws) if f.endswith(\".py\") or f.endswith(\".pst\") ]"
   ]
  },
  {
   "cell_type": "code",
   "execution_count": 29,
   "id": "9e0cc8bb-0032-41e1-985f-1cc27126ac06",
   "metadata": {},
   "outputs": [
    {
     "name": "stdout",
     "output_type": "stream",
     "text": [
      "import os\n",
      "import multiprocessing as mp\n",
      "import numpy as np\n",
      "import pandas as pd\n",
      "import pyemu\n",
      "def main():\n",
      "\n",
      "    try:\n",
      "       os.remove(r'..\\output-files\\head_obs.csv')\n",
      "    except Exception as e:\n",
      "       print(r'error removing tmp file:..\\output-files\\head_obs.csv')\n",
      "    try:\n",
      "       os.remove(r'..\\output-files\\pfos_obs.csv')\n",
      "    except Exception as e:\n",
      "       print(r'error removing tmp file:..\\output-files\\pfos_obs.csv')\n",
      "    try:\n",
      "       os.remove(r'..\\output-files\\pfoa_obs.csv')\n",
      "    except Exception as e:\n",
      "       print(r'error removing tmp file:..\\output-files\\pfoa_obs.csv')\n",
      "    try:\n",
      "       os.remove(r'..\\output-files\\pfhxs_obs.csv')\n",
      "    except Exception as e:\n",
      "       print(r'error removing tmp file:..\\output-files\\pfhxs_obs.csv')\n",
      "    pyemu.helpers.apply_list_and_array_pars(arr_par_file='mult2model_info.csv',chunk_len=50)\n",
      "\n",
      "if __name__ == '__main__':\n",
      "    mp.freeze_support()\n",
      "    main()\n",
      "\n"
     ]
    }
   ],
   "source": [
    "_ = [print(line.rstrip()) for line in open(os.path.join(template_ws,\"forward_run.py\"))]"
   ]
  },
  {
   "cell_type": "markdown",
   "id": "2f7e011c-b52c-460f-a6bd-81ff2dc2394f",
   "metadata": {},
   "source": [
    "### Sys Commands"
   ]
  },
  {
   "cell_type": "code",
   "execution_count": 30,
   "id": "77240668-fc5c-4ac9-b0a5-2562c80d414c",
   "metadata": {},
   "outputs": [
    {
     "data": {
      "text/plain": [
       "[]"
      ]
     },
     "execution_count": 30,
     "metadata": {},
     "output_type": "execute_result"
    }
   ],
   "source": [
    "pf.mod_sys_cmds "
   ]
  },
  {
   "cell_type": "code",
   "execution_count": 31,
   "id": "0dcacd98-a155-48e8-9306-cd5c1fad8073",
   "metadata": {},
   "outputs": [
    {
     "data": {
      "text/plain": [
       "['mf6']"
      ]
     },
     "execution_count": 31,
     "metadata": {},
     "output_type": "execute_result"
    }
   ],
   "source": [
    "pf.mod_sys_cmds.append(\"mf6\") #do this only once\n",
    "pf.mod_sys_cmds"
   ]
  },
  {
   "cell_type": "code",
   "execution_count": 32,
   "id": "f0e8045f-515b-41d0-9bfc-68119e0829e1",
   "metadata": {},
   "outputs": [
    {
     "name": "stdout",
     "output_type": "stream",
     "text": [
      "noptmax:0, npar_adj:20, nnz_obs:274736\n",
      "import os\n",
      "import multiprocessing as mp\n",
      "import numpy as np\n",
      "import pandas as pd\n",
      "import pyemu\n",
      "def main():\n",
      "\n",
      "    try:\n",
      "       os.remove(r'..\\output-files\\head_obs.csv')\n",
      "    except Exception as e:\n",
      "       print(r'error removing tmp file:..\\output-files\\head_obs.csv')\n",
      "    try:\n",
      "       os.remove(r'..\\output-files\\pfos_obs.csv')\n",
      "    except Exception as e:\n",
      "       print(r'error removing tmp file:..\\output-files\\pfos_obs.csv')\n",
      "    try:\n",
      "       os.remove(r'..\\output-files\\pfoa_obs.csv')\n",
      "    except Exception as e:\n",
      "       print(r'error removing tmp file:..\\output-files\\pfoa_obs.csv')\n",
      "    try:\n",
      "       os.remove(r'..\\output-files\\pfhxs_obs.csv')\n",
      "    except Exception as e:\n",
      "       print(r'error removing tmp file:..\\output-files\\pfhxs_obs.csv')\n",
      "    pyemu.helpers.apply_list_and_array_pars(arr_par_file='mult2model_info.csv',chunk_len=50)\n",
      "    pyemu.os_utils.run(r'mf6')\n",
      "\n",
      "\n",
      "if __name__ == '__main__':\n",
      "    mp.freeze_support()\n",
      "    main()\n",
      "\n"
     ]
    }
   ],
   "source": [
    "pst = pf.build_pst()\n",
    "\n",
    "_ = [print(line.rstrip()) for line in open(os.path.join(template_ws,\"forward_run.py\"))]"
   ]
  },
  {
   "cell_type": "code",
   "execution_count": 33,
   "id": "cd723da9-ff86-4d83-bfab-4effec259cf9",
   "metadata": {},
   "outputs": [],
   "source": [
    "# pf.add_py_function(\"helpers.py\",\"extract_hds_arrays_and_list_dfs()\",is_pre_cmd=False)"
   ]
  },
  {
   "cell_type": "code",
   "execution_count": 34,
   "id": "e357e5b4-faa5-4cec-9a80-7231856a1e65",
   "metadata": {},
   "outputs": [],
   "source": [
    "# import helpers"
   ]
  },
  {
   "cell_type": "code",
   "execution_count": 35,
   "id": "a0729129-ce13-41d9-a73e-2cffdf64a926",
   "metadata": {},
   "outputs": [],
   "source": [
    "# helpers.test_extract_hds_arrays(template_ws)"
   ]
  },
  {
   "cell_type": "code",
   "execution_count": 36,
   "id": "3d1325a4-59d9-4167-a84a-926e3fc102e3",
   "metadata": {},
   "outputs": [],
   "source": [
    "# files = [f for f in os.listdir(template_ws) if f.startswith(\"hdslay\")]"
   ]
  },
  {
   "cell_type": "code",
   "execution_count": 37,
   "id": "b9909924-c6b0-4027-9a94-befa840d0c35",
   "metadata": {},
   "outputs": [],
   "source": [
    "# for f in files:\n",
    "#     pf.add_observations(f,prefix=f.split(\".\")[0],obsgp=f.split(\".\")[0])"
   ]
  },
  {
   "cell_type": "code",
   "execution_count": 38,
   "id": "892b3c9c-670a-4d13-bfde-d91e33e373d3",
   "metadata": {},
   "outputs": [],
   "source": [
    "# for f in [\"inc.csv\",\"cum.csv\"]:\n",
    "#     df = pd.read_csv(os.path.join(template_ws,f),index_col=0)\n",
    "#     pf.add_observations(f,index_cols=[\"totim\"],use_cols=list(df.columns.values),\n",
    "#                         prefix=f.split('.')[0],obsgp=f.split(\".\")[0])"
   ]
  },
  {
   "cell_type": "code",
   "execution_count": 39,
   "id": "da724100-6d89-4fb5-88fa-6a0ed646fdbe",
   "metadata": {},
   "outputs": [
    {
     "name": "stdout",
     "output_type": "stream",
     "text": [
      "noptmax:0, npar_adj:20, nnz_obs:274736\n"
     ]
    }
   ],
   "source": [
    "pst = pf.build_pst()"
   ]
  },
  {
   "cell_type": "code",
   "execution_count": 40,
   "id": "657695c1-4626-45a4-9f18-ac4c99db7169",
   "metadata": {},
   "outputs": [
    {
     "name": "stdout",
     "output_type": "stream",
     "text": [
      "import os\n",
      "import multiprocessing as mp\n",
      "import numpy as np\n",
      "import pandas as pd\n",
      "import pyemu\n",
      "def main():\n",
      "\n",
      "    try:\n",
      "       os.remove(r'..\\output-files\\head_obs.csv')\n",
      "    except Exception as e:\n",
      "       print(r'error removing tmp file:..\\output-files\\head_obs.csv')\n",
      "    try:\n",
      "       os.remove(r'..\\output-files\\pfos_obs.csv')\n",
      "    except Exception as e:\n",
      "       print(r'error removing tmp file:..\\output-files\\pfos_obs.csv')\n",
      "    try:\n",
      "       os.remove(r'..\\output-files\\pfoa_obs.csv')\n",
      "    except Exception as e:\n",
      "       print(r'error removing tmp file:..\\output-files\\pfoa_obs.csv')\n",
      "    try:\n",
      "       os.remove(r'..\\output-files\\pfhxs_obs.csv')\n",
      "    except Exception as e:\n",
      "       print(r'error removing tmp file:..\\output-files\\pfhxs_obs.csv')\n",
      "    pyemu.helpers.apply_list_and_array_pars(arr_par_file='mult2model_info.csv',chunk_len=50)\n",
      "    pyemu.os_utils.run(r'mf6')\n",
      "\n",
      "\n",
      "if __name__ == '__main__':\n",
      "    mp.freeze_support()\n",
      "    main()\n",
      "\n"
     ]
    }
   ],
   "source": [
    "_ = [print(line.rstrip()) for line in open(os.path.join(template_ws,\"forward_run.py\"))]"
   ]
  },
  {
   "cell_type": "code",
   "execution_count": 41,
   "id": "e49ce407-a9dc-4c41-a36f-c56cb9739ad8",
   "metadata": {},
   "outputs": [
    {
     "data": {
      "text/html": [
       "<div>\n",
       "<style scoped>\n",
       "    .dataframe tbody tr th:only-of-type {\n",
       "        vertical-align: middle;\n",
       "    }\n",
       "\n",
       "    .dataframe tbody tr th {\n",
       "        vertical-align: top;\n",
       "    }\n",
       "\n",
       "    .dataframe thead th {\n",
       "        text-align: right;\n",
       "    }\n",
       "</style>\n",
       "<table border=\"1\" class=\"dataframe\">\n",
       "  <thead>\n",
       "    <tr style=\"text-align: right;\">\n",
       "      <th></th>\n",
       "      <th>obsnme</th>\n",
       "      <th>obsval</th>\n",
       "      <th>weight</th>\n",
       "      <th>obgnme</th>\n",
       "      <th>oname</th>\n",
       "      <th>otype</th>\n",
       "      <th>time</th>\n",
       "      <th>usecol</th>\n",
       "    </tr>\n",
       "  </thead>\n",
       "  <tbody>\n",
       "    <tr>\n",
       "      <th>oname:hds_otype:lst_usecol:fountainno.1_time:10013</th>\n",
       "      <td>oname:hds_otype:lst_usecol:fountainno.1_time:10013</td>\n",
       "      <td>1.680901e+03</td>\n",
       "      <td>1.0</td>\n",
       "      <td>oname:hds_otype:lst_usecol:fountainno.1</td>\n",
       "      <td>hds</td>\n",
       "      <td>lst</td>\n",
       "      <td>10013</td>\n",
       "      <td>fountainno.1</td>\n",
       "    </tr>\n",
       "    <tr>\n",
       "      <th>oname:hds_otype:lst_usecol:fountainno.1_time:10043</th>\n",
       "      <td>oname:hds_otype:lst_usecol:fountainno.1_time:10043</td>\n",
       "      <td>1.680898e+03</td>\n",
       "      <td>1.0</td>\n",
       "      <td>oname:hds_otype:lst_usecol:fountainno.1</td>\n",
       "      <td>hds</td>\n",
       "      <td>lst</td>\n",
       "      <td>10043</td>\n",
       "      <td>fountainno.1</td>\n",
       "    </tr>\n",
       "    <tr>\n",
       "      <th>oname:hds_otype:lst_usecol:fountainno.1_time:1005</th>\n",
       "      <td>oname:hds_otype:lst_usecol:fountainno.1_time:1005</td>\n",
       "      <td>1.681078e+03</td>\n",
       "      <td>1.0</td>\n",
       "      <td>oname:hds_otype:lst_usecol:fountainno.1</td>\n",
       "      <td>hds</td>\n",
       "      <td>lst</td>\n",
       "      <td>1005</td>\n",
       "      <td>fountainno.1</td>\n",
       "    </tr>\n",
       "    <tr>\n",
       "      <th>oname:hds_otype:lst_usecol:fountainno.1_time:10074</th>\n",
       "      <td>oname:hds_otype:lst_usecol:fountainno.1_time:10074</td>\n",
       "      <td>1.680901e+03</td>\n",
       "      <td>1.0</td>\n",
       "      <td>oname:hds_otype:lst_usecol:fountainno.1</td>\n",
       "      <td>hds</td>\n",
       "      <td>lst</td>\n",
       "      <td>10074</td>\n",
       "      <td>fountainno.1</td>\n",
       "    </tr>\n",
       "    <tr>\n",
       "      <th>oname:hds_otype:lst_usecol:fountainno.1_time:10105</th>\n",
       "      <td>oname:hds_otype:lst_usecol:fountainno.1_time:10105</td>\n",
       "      <td>1.680412e+03</td>\n",
       "      <td>1.0</td>\n",
       "      <td>oname:hds_otype:lst_usecol:fountainno.1</td>\n",
       "      <td>hds</td>\n",
       "      <td>lst</td>\n",
       "      <td>10105</td>\n",
       "      <td>fountainno.1</td>\n",
       "    </tr>\n",
       "    <tr>\n",
       "      <th>...</th>\n",
       "      <td>...</td>\n",
       "      <td>...</td>\n",
       "      <td>...</td>\n",
       "      <td>...</td>\n",
       "      <td>...</td>\n",
       "      <td>...</td>\n",
       "      <td>...</td>\n",
       "      <td>...</td>\n",
       "    </tr>\n",
       "    <tr>\n",
       "      <th>oname:s3_otype:lst_usecol:well4_time:9862</th>\n",
       "      <td>oname:s3_otype:lst_usecol:well4_time:9862</td>\n",
       "      <td>1.000000e+10</td>\n",
       "      <td>1.0</td>\n",
       "      <td>oname:s3_otype:lst_usecol:well4</td>\n",
       "      <td>s3</td>\n",
       "      <td>lst</td>\n",
       "      <td>9862</td>\n",
       "      <td>well4</td>\n",
       "    </tr>\n",
       "    <tr>\n",
       "      <th>oname:s3_otype:lst_usecol:well4_time:9893</th>\n",
       "      <td>oname:s3_otype:lst_usecol:well4_time:9893</td>\n",
       "      <td>1.000000e+10</td>\n",
       "      <td>1.0</td>\n",
       "      <td>oname:s3_otype:lst_usecol:well4</td>\n",
       "      <td>s3</td>\n",
       "      <td>lst</td>\n",
       "      <td>9893</td>\n",
       "      <td>well4</td>\n",
       "    </tr>\n",
       "    <tr>\n",
       "      <th>oname:s3_otype:lst_usecol:well4_time:9921</th>\n",
       "      <td>oname:s3_otype:lst_usecol:well4_time:9921</td>\n",
       "      <td>1.000000e+10</td>\n",
       "      <td>1.0</td>\n",
       "      <td>oname:s3_otype:lst_usecol:well4</td>\n",
       "      <td>s3</td>\n",
       "      <td>lst</td>\n",
       "      <td>9921</td>\n",
       "      <td>well4</td>\n",
       "    </tr>\n",
       "    <tr>\n",
       "      <th>oname:s3_otype:lst_usecol:well4_time:9952</th>\n",
       "      <td>oname:s3_otype:lst_usecol:well4_time:9952</td>\n",
       "      <td>1.000000e+10</td>\n",
       "      <td>1.0</td>\n",
       "      <td>oname:s3_otype:lst_usecol:well4</td>\n",
       "      <td>s3</td>\n",
       "      <td>lst</td>\n",
       "      <td>9952</td>\n",
       "      <td>well4</td>\n",
       "    </tr>\n",
       "    <tr>\n",
       "      <th>oname:s3_otype:lst_usecol:well4_time:9982</th>\n",
       "      <td>oname:s3_otype:lst_usecol:well4_time:9982</td>\n",
       "      <td>1.000000e+10</td>\n",
       "      <td>1.0</td>\n",
       "      <td>oname:s3_otype:lst_usecol:well4</td>\n",
       "      <td>s3</td>\n",
       "      <td>lst</td>\n",
       "      <td>9982</td>\n",
       "      <td>well4</td>\n",
       "    </tr>\n",
       "  </tbody>\n",
       "</table>\n",
       "<p>274736 rows × 8 columns</p>\n",
       "</div>"
      ],
      "text/plain": [
       "                                                                                                obsnme        obsval  weight                                   obgnme oname otype   time        usecol\n",
       "oname:hds_otype:lst_usecol:fountainno.1_time:10013  oname:hds_otype:lst_usecol:fountainno.1_time:10013  1.680901e+03     1.0  oname:hds_otype:lst_usecol:fountainno.1   hds   lst  10013  fountainno.1\n",
       "oname:hds_otype:lst_usecol:fountainno.1_time:10043  oname:hds_otype:lst_usecol:fountainno.1_time:10043  1.680898e+03     1.0  oname:hds_otype:lst_usecol:fountainno.1   hds   lst  10043  fountainno.1\n",
       "oname:hds_otype:lst_usecol:fountainno.1_time:1005    oname:hds_otype:lst_usecol:fountainno.1_time:1005  1.681078e+03     1.0  oname:hds_otype:lst_usecol:fountainno.1   hds   lst   1005  fountainno.1\n",
       "oname:hds_otype:lst_usecol:fountainno.1_time:10074  oname:hds_otype:lst_usecol:fountainno.1_time:10074  1.680901e+03     1.0  oname:hds_otype:lst_usecol:fountainno.1   hds   lst  10074  fountainno.1\n",
       "oname:hds_otype:lst_usecol:fountainno.1_time:10105  oname:hds_otype:lst_usecol:fountainno.1_time:10105  1.680412e+03     1.0  oname:hds_otype:lst_usecol:fountainno.1   hds   lst  10105  fountainno.1\n",
       "...                                                                                                ...           ...     ...                                      ...   ...   ...    ...           ...\n",
       "oname:s3_otype:lst_usecol:well4_time:9862                    oname:s3_otype:lst_usecol:well4_time:9862  1.000000e+10     1.0          oname:s3_otype:lst_usecol:well4    s3   lst   9862         well4\n",
       "oname:s3_otype:lst_usecol:well4_time:9893                    oname:s3_otype:lst_usecol:well4_time:9893  1.000000e+10     1.0          oname:s3_otype:lst_usecol:well4    s3   lst   9893         well4\n",
       "oname:s3_otype:lst_usecol:well4_time:9921                    oname:s3_otype:lst_usecol:well4_time:9921  1.000000e+10     1.0          oname:s3_otype:lst_usecol:well4    s3   lst   9921         well4\n",
       "oname:s3_otype:lst_usecol:well4_time:9952                    oname:s3_otype:lst_usecol:well4_time:9952  1.000000e+10     1.0          oname:s3_otype:lst_usecol:well4    s3   lst   9952         well4\n",
       "oname:s3_otype:lst_usecol:well4_time:9982                    oname:s3_otype:lst_usecol:well4_time:9982  1.000000e+10     1.0          oname:s3_otype:lst_usecol:well4    s3   lst   9982         well4\n",
       "\n",
       "[274736 rows x 8 columns]"
      ]
     },
     "execution_count": 41,
     "metadata": {},
     "output_type": "execute_result"
    }
   ],
   "source": [
    "obs = pst.observation_data\n",
    "obs"
   ]
  },
  {
   "cell_type": "code",
   "execution_count": 42,
   "id": "c1e798b6-ba2a-46c9-a08f-a009cf3c3da0",
   "metadata": {},
   "outputs": [
    {
     "name": "stdout",
     "output_type": "stream",
     "text": [
      "noptmax:0, npar_adj:20, nnz_obs:274736\n"
     ]
    }
   ],
   "source": [
    "pst.write(os.path.join(template_ws, 'peterson_mf6.pst'),version=2)"
   ]
  },
  {
   "cell_type": "code",
   "execution_count": 43,
   "id": "bc821c32-67d0-4235-89fc-ebf931065e72",
   "metadata": {},
   "outputs": [
    {
     "data": {
      "text/plain": [
       "0"
      ]
     },
     "execution_count": 43,
     "metadata": {},
     "output_type": "execute_result"
    }
   ],
   "source": [
    "pst.control_data.noptmax"
   ]
  },
  {
   "cell_type": "code",
   "execution_count": 46,
   "id": "f10b6c10-6540-409a-8fae-00187a9c9db0",
   "metadata": {},
   "outputs": [
    {
     "name": "stdout",
     "output_type": "stream",
     "text": [
      "pestpp-glm.exe peterson_mf6.pst\n"
     ]
    },
    {
     "ename": "Exception",
     "evalue": "run() returned non-zero: 1",
     "output_type": "error",
     "traceback": [
      "\u001b[1;31m---------------------------------------------------------------------------\u001b[0m",
      "\u001b[1;31mException\u001b[0m                                 Traceback (most recent call last)",
      "Cell \u001b[1;32mIn[46], line 1\u001b[0m\n\u001b[1;32m----> 1\u001b[0m \u001b[43mpyemu\u001b[49m\u001b[38;5;241;43m.\u001b[39;49m\u001b[43mos_utils\u001b[49m\u001b[38;5;241;43m.\u001b[39;49m\u001b[43mrun\u001b[49m\u001b[43m(\u001b[49m\u001b[38;5;124;43m'\u001b[39;49m\u001b[38;5;124;43mpestpp-glm peterson_mf6.pst\u001b[39;49m\u001b[38;5;124;43m'\u001b[39;49m\u001b[43m,\u001b[49m\u001b[43m \u001b[49m\u001b[43mcwd\u001b[49m\u001b[38;5;241;43m=\u001b[39;49m\u001b[43mtemplate_ws\u001b[49m\u001b[43m)\u001b[49m\n",
      "File \u001b[1;32m~\\AppData\\Local\\miniconda3\\envs\\PFAS\\Lib\\site-packages\\pyemu\\utils\\os_utils.py:100\u001b[0m, in \u001b[0;36mrun\u001b[1;34m(cmd_str, cwd, verbose, use_sp, **kwargs)\u001b[0m\n\u001b[0;32m     98\u001b[0m     run_sp(cmd_str, cwd, verbose, \u001b[38;5;241m*\u001b[39m\u001b[38;5;241m*\u001b[39mkwargs)\n\u001b[0;32m     99\u001b[0m \u001b[38;5;28;01melse\u001b[39;00m:       \n\u001b[1;32m--> 100\u001b[0m     \u001b[43mrun_ossystem\u001b[49m\u001b[43m(\u001b[49m\u001b[43mcmd_str\u001b[49m\u001b[43m,\u001b[49m\u001b[43m \u001b[49m\u001b[43mcwd\u001b[49m\u001b[43m,\u001b[49m\u001b[43m \u001b[49m\u001b[43mverbose\u001b[49m\u001b[43m)\u001b[49m\n",
      "File \u001b[1;32m~\\AppData\\Local\\miniconda3\\envs\\PFAS\\Lib\\site-packages\\pyemu\\utils\\os_utils.py:156\u001b[0m, in \u001b[0;36mrun_ossystem\u001b[1;34m(cmd_str, cwd, verbose)\u001b[0m\n\u001b[0;32m    154\u001b[0m \u001b[38;5;28;01mif\u001b[39;00m \u001b[38;5;124m\"\u001b[39m\u001b[38;5;124mwindow\u001b[39m\u001b[38;5;124m\"\u001b[39m \u001b[38;5;129;01min\u001b[39;00m platform\u001b[38;5;241m.\u001b[39mplatform()\u001b[38;5;241m.\u001b[39mlower():\n\u001b[0;32m    155\u001b[0m     \u001b[38;5;28;01mif\u001b[39;00m ret_val \u001b[38;5;241m!=\u001b[39m \u001b[38;5;241m0\u001b[39m:\n\u001b[1;32m--> 156\u001b[0m         \u001b[38;5;28;01mraise\u001b[39;00m \u001b[38;5;167;01mException\u001b[39;00m(\u001b[38;5;124m\"\u001b[39m\u001b[38;5;124mrun() returned non-zero: \u001b[39m\u001b[38;5;132;01m{0}\u001b[39;00m\u001b[38;5;124m\"\u001b[39m\u001b[38;5;241m.\u001b[39mformat(ret_val))\n\u001b[0;32m    157\u001b[0m \u001b[38;5;28;01melse\u001b[39;00m:\n\u001b[0;32m    158\u001b[0m     estat \u001b[38;5;241m=\u001b[39m os\u001b[38;5;241m.\u001b[39mWEXITSTATUS(ret_val)\n",
      "\u001b[1;31mException\u001b[0m: run() returned non-zero: 1"
     ]
    }
   ],
   "source": [
    "pyemu.os_utils.run('pestpp-glm peterson_mf6.pst', cwd=template_ws)"
   ]
  },
  {
   "cell_type": "code",
   "execution_count": null,
   "id": "b79de7a1-35bd-4b37-b111-38ec93a8844a",
   "metadata": {},
   "outputs": [],
   "source": [
    "\n",
    "# read the file\n",
    "iobj = pd.read_csv(os.path.join(template_ws, 'peterson_mf6.iobj'))\n",
    "\n",
    "# check value in phi column\n",
    "iobj.total_phi\n",
    "     "
   ]
  },
  {
   "cell_type": "code",
   "execution_count": null,
   "id": "64da3f03-e8ba-4dd8-bb7d-f72425821cc6",
   "metadata": {},
   "outputs": [],
   "source": []
  }
 ],
 "metadata": {
  "kernelspec": {
   "display_name": "Python 3 (ipykernel)",
   "language": "python",
   "name": "python3"
  },
  "language_info": {
   "codemirror_mode": {
    "name": "ipython",
    "version": 3
   },
   "file_extension": ".py",
   "mimetype": "text/x-python",
   "name": "python",
   "nbconvert_exporter": "python",
   "pygments_lexer": "ipython3",
   "version": "3.12.3"
  }
 },
 "nbformat": 4,
 "nbformat_minor": 5
}
