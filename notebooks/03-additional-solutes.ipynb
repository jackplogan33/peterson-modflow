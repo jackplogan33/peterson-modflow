{
 "cells": [
  {
   "cell_type": "code",
   "execution_count": 1,
   "id": "c4b51cd9-19ec-4e05-b0eb-0b696303e68d",
   "metadata": {},
   "outputs": [],
   "source": [
    "import flopy\n",
    "import flopy.mf6 as mf6\n",
    "import flopy.plot as fplt\n",
    "\n",
    "import os\n",
    "import numpy as np\n",
    "import pandas as pd\n",
    "import matplotlib.pyplot as plt\n",
    "\n",
    "import cartopy\n",
    "import cartopy.crs as ccrs\n",
    "from cartopy.io.img_tiles import GoogleTiles\n",
    "\n",
    "import findwells as fw"
   ]
  },
  {
   "cell_type": "markdown",
   "id": "0ead21bd-1c60-46ab-a383-1968ff94457c",
   "metadata": {},
   "source": [
    "Fun fact: Flopy and modflow do not support multi-solute transport in the same gwt model. Thus, we have to create separate GWT model objects for each solute. \n",
    "\n",
    "First, let's load in the simulation and the models created up to this point:"
   ]
  },
  {
   "cell_type": "markdown",
   "id": "706f28c8-6260-4917-8171-059bd1456d6e",
   "metadata": {},
   "source": [
    "# TODO: ADD OBS WELLS TO EACH GWT MODEL"
   ]
  },
  {
   "cell_type": "code",
   "execution_count": 2,
   "id": "de438d06-5646-454f-b8be-e9ecc48713ee",
   "metadata": {},
   "outputs": [
    {
     "name": "stdout",
     "output_type": "stream",
     "text": [
      "loading simulation...\n",
      "  loading simulation name file...\n",
      "  loading tdis package...\n",
      "  loading model gwf6...\n",
      "    loading package dis...\n",
      "    loading package ic...\n",
      "    loading package npf...\n",
      "    loading package riv...\n",
      "    loading package obs...\n",
      "    loading package wel...\n",
      "    loading package chd...\n",
      "    loading package sto...\n",
      "    loading package rch...\n",
      "    loading package oc...\n",
      "    loading package rch...\n",
      "  loading model gwt6...\n",
      "    loading package dis...\n",
      "    loading package ic...\n",
      "    loading package adv...\n",
      "    loading package dsp...\n",
      "    loading package mst...\n",
      "    loading package ist...\n",
      "    loading package ssm...\n",
      "    loading package obs...\n",
      "    loading package oc...\n",
      "  loading model gwt6...\n",
      "    loading package dis...\n",
      "    loading package ic...\n",
      "    loading package adv...\n",
      "    loading package dsp...\n",
      "    loading package ist...\n",
      "    loading package mst...\n",
      "    loading package ssm...\n",
      "    loading package obs...\n",
      "    loading package oc...\n",
      "  loading model gwt6...\n",
      "    loading package dis...\n",
      "    loading package ic...\n",
      "    loading package adv...\n",
      "    loading package dsp...\n",
      "    loading package ist...\n",
      "    loading package mst...\n",
      "    loading package ssm...\n",
      "    loading package obs...\n",
      "    loading package oc...\n",
      "  loading exchange package gwf-gwt_exg_0...\n",
      "  loading exchange package gwf-gwt_exg_1...\n",
      "  loading exchange package gwf-gwt_exg_2...\n",
      "  loading solution package peterson_flow...\n",
      "  loading solution package peterson_pfos...\n",
      "  loading solution package peterson_pfoa...\n",
      "  loading solution package peterson_pfhxs...\n"
     ]
    }
   ],
   "source": [
    "sim = mf6.MFSimulation.load(\n",
    "    sim_name='peterson',\n",
    "    exe_name='../../mf6/mf6.exe',\n",
    "    sim_ws='../input-files/'\n",
    ")"
   ]
  },
  {
   "cell_type": "code",
   "execution_count": 3,
   "id": "0a8ceb21-4497-46bb-a2f6-773905099f64",
   "metadata": {},
   "outputs": [],
   "source": [
    "gwf = sim.get_model('peterson_flow')\n",
    "gwt_pfos = sim.get_model('peterson_pfos')"
   ]
  },
  {
   "cell_type": "markdown",
   "id": "eecf56c0-4350-4a87-9b41-c7829074a705",
   "metadata": {},
   "source": [
    "## Create New Transport Models"
   ]
  },
  {
   "cell_type": "code",
   "execution_count": 4,
   "id": "3bd41e17-bc65-4902-8ec8-8999e00aab3d",
   "metadata": {},
   "outputs": [],
   "source": [
    "pfoa_name = 'peterson_pfoa'\n",
    "pfoa_nam_file = f\"{pfoa_name}.nam\"\n",
    "\n",
    "gwt_pfoa = mf6.ModflowGwt(\n",
    "    sim,\n",
    "    modelname=pfoa_name,\n",
    "    model_nam_file=pfoa_nam_file\n",
    ")\n",
    "\n",
    "pfhxs_name = 'peterson_pfhxs'\n",
    "pfhxs_nam_file = f\"{pfhxs_name}.nam\"\n",
    "\n",
    "gwt_pfhxs = mf6.ModflowGwt(\n",
    "    sim,\n",
    "    modelname=pfhxs_name,\n",
    "    model_nam_file=pfhxs_nam_file\n",
    ")"
   ]
  },
  {
   "cell_type": "markdown",
   "id": "4a733216-65b9-48e2-b474-0eb2b02ede9a",
   "metadata": {},
   "source": [
    "## Register redundant packages to new models\n",
    "\n",
    "Most of the models have redundant packages and only need a few to be changed. The transport model for PFOS has the following parameters:"
   ]
  },
  {
   "cell_type": "code",
   "execution_count": 5,
   "id": "be31f52c-55fe-4223-b57a-79ec95ae422e",
   "metadata": {},
   "outputs": [
    {
     "name": "stderr",
     "output_type": "stream",
     "text": [
      "C:\\Users\\ipedraza\\AppData\\Local\\miniconda3\\envs\\PFAS\\Lib\\site-packages\\flopy\\mf6\\mfmodel.py:274: DeprecationWarning: This method is for internal use only and will be deprecated.\n",
      "  warnings.warn(\n"
     ]
    },
    {
     "data": {
      "text/plain": [
       "['dis', 'ic', 'adv', 'dsp', 'mst', 'ist', 'ssm', 'obs_pfos', 'oc']"
      ]
     },
     "execution_count": 5,
     "metadata": {},
     "output_type": "execute_result"
    }
   ],
   "source": [
    "gwt_pfos.package_names"
   ]
  },
  {
   "cell_type": "markdown",
   "id": "701f4f0d-17e5-4b4d-949d-44bf6eaa807a",
   "metadata": {},
   "source": [
    "Redundant packages will be loaded and assigned to the new model objects. The unique packages will be created for each solute.\n",
    "\n",
    "Redundant packages:\n",
    "- `dis`\n",
    "- `ic`\n",
    "- `adv`,\n",
    "- `dsp`,\n",
    "- `ist`,\n",
    "\n",
    "Model unique packages:\n",
    "- `mst`\n",
    "- `ssm`\n",
    "- `oc`\n",
    "\n",
    "There is also the `ims` package. Modflow requires a new IMS for each model, but we are using the same parameters for each model. We will load this in and assign it to each of the new solute models just like we did in the previous notebook."
   ]
  },
  {
   "cell_type": "markdown",
   "id": "dc30edd5-db75-438a-b730-1e183d8347bb",
   "metadata": {},
   "source": [
    "### Register IMS Package for each model"
   ]
  },
  {
   "cell_type": "code",
   "execution_count": 6,
   "id": "4a6ccbd1-ba33-478e-81dc-67efe46eb73c",
   "metadata": {},
   "outputs": [
    {
     "ename": "TypeError",
     "evalue": "Cannot compare structured or void to non-void arrays.",
     "output_type": "error",
     "traceback": [
      "\u001b[1;31m---------------------------------------------------------------------------\u001b[0m",
      "\u001b[1;31mTypeError\u001b[0m                                 Traceback (most recent call last)",
      "Cell \u001b[1;32mIn[6], line 2\u001b[0m\n\u001b[0;32m      1\u001b[0m \u001b[38;5;66;03m# IMS package for the GWT model\u001b[39;00m\n\u001b[1;32m----> 2\u001b[0m ims_pfoa \u001b[38;5;241m=\u001b[39m \u001b[43mflopy\u001b[49m\u001b[38;5;241;43m.\u001b[39;49m\u001b[43mmf6\u001b[49m\u001b[38;5;241;43m.\u001b[39;49m\u001b[43mModflowIms\u001b[49m\u001b[43m(\u001b[49m\n\u001b[0;32m      3\u001b[0m \u001b[43m    \u001b[49m\u001b[43msim\u001b[49m\u001b[43m,\u001b[49m\n\u001b[0;32m      4\u001b[0m \u001b[43m    \u001b[49m\u001b[43mpname\u001b[49m\u001b[38;5;241;43m=\u001b[39;49m\u001b[38;5;124;43m'\u001b[39;49m\u001b[38;5;124;43mims_pfoa\u001b[39;49m\u001b[38;5;124;43m'\u001b[39;49m\u001b[43m,\u001b[49m\n\u001b[0;32m      5\u001b[0m \u001b[43m    \u001b[49m\u001b[43mfilename\u001b[49m\u001b[38;5;241;43m=\u001b[39;49m\u001b[38;5;124;43m'\u001b[39;49m\u001b[38;5;124;43mpeterson_pfoa.ims\u001b[39;49m\u001b[38;5;124;43m'\u001b[39;49m\u001b[43m,\u001b[49m\n\u001b[0;32m      6\u001b[0m \u001b[43m    \u001b[49m\u001b[43mcomplexity\u001b[49m\u001b[38;5;241;43m=\u001b[39;49m\u001b[38;5;124;43m'\u001b[39;49m\u001b[38;5;124;43mCOMPLEX\u001b[39;49m\u001b[38;5;124;43m'\u001b[39;49m\u001b[43m,\u001b[49m\n\u001b[0;32m      7\u001b[0m \u001b[43m    \u001b[49m\u001b[43mlinear_acceleration\u001b[49m\u001b[38;5;241;43m=\u001b[39;49m\u001b[38;5;124;43m'\u001b[39;49m\u001b[38;5;124;43mBICGSTAB\u001b[39;49m\u001b[38;5;124;43m'\u001b[39;49m\u001b[43m,\u001b[49m\n\u001b[0;32m      8\u001b[0m \u001b[43m    \u001b[49m\u001b[43mouter_maximum\u001b[49m\u001b[38;5;241;43m=\u001b[39;49m\u001b[38;5;241;43m100\u001b[39;49m\u001b[43m,\u001b[49m\n\u001b[0;32m      9\u001b[0m \u001b[43m    \u001b[49m\u001b[43minner_maximum\u001b[49m\u001b[38;5;241;43m=\u001b[39;49m\u001b[38;5;241;43m500\u001b[39;49m\u001b[43m,\u001b[49m\n\u001b[0;32m     10\u001b[0m \u001b[43m    \u001b[49m\u001b[43minner_dvclose\u001b[49m\u001b[38;5;241;43m=\u001b[39;49m\u001b[38;5;241;43m0.1\u001b[39;49m\u001b[43m,\u001b[49m\n\u001b[0;32m     11\u001b[0m \u001b[43m    \u001b[49m\u001b[43mouter_dvclose\u001b[49m\u001b[38;5;241;43m=\u001b[39;49m\u001b[38;5;241;43m0.1\u001b[39;49m\u001b[43m,\u001b[49m\n\u001b[0;32m     12\u001b[0m \u001b[43m    \u001b[49m\u001b[43mrcloserecord\u001b[49m\u001b[38;5;241;43m=\u001b[39;49m\u001b[38;5;241;43m8460\u001b[39;49m\u001b[43m,\u001b[49m\u001b[43m \u001b[49m\n\u001b[0;32m     13\u001b[0m \u001b[43m    \u001b[49m\u001b[43mno_ptcrecord\u001b[49m\u001b[38;5;241;43m=\u001b[39;49m\u001b[38;5;124;43m'\u001b[39;49m\u001b[38;5;124;43mFIRST\u001b[39;49m\u001b[38;5;124;43m'\u001b[39;49m\n\u001b[0;32m     14\u001b[0m \u001b[43m)\u001b[49m\n\u001b[0;32m     15\u001b[0m sim\u001b[38;5;241m.\u001b[39mregister_ims_package(ims_pfoa, [pfoa_name])  \u001b[38;5;66;03m# Assign ims_gwt to the GWT model\u001b[39;00m\n",
      "File \u001b[1;32m~\\AppData\\Local\\miniconda3\\envs\\PFAS\\Lib\\site-packages\\flopy\\mf6\\modflow\\mfims.py:503\u001b[0m, in \u001b[0;36mModflowIms.__init__\u001b[1;34m(self, simulation, loading_package, print_option, complexity, csv_output_filerecord, csv_outer_output_filerecord, csv_inner_output_filerecord, no_ptcrecord, ats_outer_maximum_fraction, outer_hclose, outer_dvclose, outer_rclosebnd, outer_maximum, under_relaxation, under_relaxation_gamma, under_relaxation_theta, under_relaxation_kappa, under_relaxation_momentum, backtracking_number, backtracking_tolerance, backtracking_reduction_factor, backtracking_residual_limit, inner_maximum, inner_hclose, inner_dvclose, rcloserecord, linear_acceleration, relaxation_factor, preconditioner_levels, preconditioner_drop_tolerance, number_orthogonalizations, scaling_method, reordering_method, filename, pname, **kwargs)\u001b[0m\n\u001b[0;32m    485\u001b[0m \u001b[38;5;28;01mdef\u001b[39;00m\u001b[38;5;250m \u001b[39m\u001b[38;5;21m__init__\u001b[39m(\u001b[38;5;28mself\u001b[39m, simulation, loading_package\u001b[38;5;241m=\u001b[39m\u001b[38;5;28;01mFalse\u001b[39;00m, print_option\u001b[38;5;241m=\u001b[39m\u001b[38;5;28;01mNone\u001b[39;00m,\n\u001b[0;32m    486\u001b[0m              complexity\u001b[38;5;241m=\u001b[39m\u001b[38;5;28;01mNone\u001b[39;00m, csv_output_filerecord\u001b[38;5;241m=\u001b[39m\u001b[38;5;28;01mNone\u001b[39;00m,\n\u001b[0;32m    487\u001b[0m              csv_outer_output_filerecord\u001b[38;5;241m=\u001b[39m\u001b[38;5;28;01mNone\u001b[39;00m,\n\u001b[1;32m   (...)\u001b[0m\n\u001b[0;32m    501\u001b[0m              number_orthogonalizations\u001b[38;5;241m=\u001b[39m\u001b[38;5;28;01mNone\u001b[39;00m, scaling_method\u001b[38;5;241m=\u001b[39m\u001b[38;5;28;01mNone\u001b[39;00m,\n\u001b[0;32m    502\u001b[0m              reordering_method\u001b[38;5;241m=\u001b[39m\u001b[38;5;28;01mNone\u001b[39;00m, filename\u001b[38;5;241m=\u001b[39m\u001b[38;5;28;01mNone\u001b[39;00m, pname\u001b[38;5;241m=\u001b[39m\u001b[38;5;28;01mNone\u001b[39;00m, \u001b[38;5;241m*\u001b[39m\u001b[38;5;241m*\u001b[39mkwargs):\n\u001b[1;32m--> 503\u001b[0m     \u001b[38;5;28;43msuper\u001b[39;49m\u001b[43m(\u001b[49m\u001b[43m)\u001b[49m\u001b[38;5;241;43m.\u001b[39;49m\u001b[38;5;21;43m__init__\u001b[39;49m\u001b[43m(\u001b[49m\u001b[43msimulation\u001b[49m\u001b[43m,\u001b[49m\u001b[43m \u001b[49m\u001b[38;5;124;43m\"\u001b[39;49m\u001b[38;5;124;43mims\u001b[39;49m\u001b[38;5;124;43m\"\u001b[39;49m\u001b[43m,\u001b[49m\u001b[43m \u001b[49m\u001b[43mfilename\u001b[49m\u001b[43m,\u001b[49m\u001b[43m \u001b[49m\u001b[43mpname\u001b[49m\u001b[43m,\u001b[49m\n\u001b[0;32m    504\u001b[0m \u001b[43m                     \u001b[49m\u001b[43mloading_package\u001b[49m\u001b[43m,\u001b[49m\u001b[43m \u001b[49m\u001b[38;5;241;43m*\u001b[39;49m\u001b[38;5;241;43m*\u001b[39;49m\u001b[43mkwargs\u001b[49m\u001b[43m)\u001b[49m\n\u001b[0;32m    506\u001b[0m     \u001b[38;5;66;03m# set up variables\u001b[39;00m\n\u001b[0;32m    507\u001b[0m     \u001b[38;5;28mself\u001b[39m\u001b[38;5;241m.\u001b[39mprint_option \u001b[38;5;241m=\u001b[39m \u001b[38;5;28mself\u001b[39m\u001b[38;5;241m.\u001b[39mbuild_mfdata(\u001b[38;5;124m\"\u001b[39m\u001b[38;5;124mprint_option\u001b[39m\u001b[38;5;124m\"\u001b[39m, print_option)\n",
      "File \u001b[1;32m~\\AppData\\Local\\miniconda3\\envs\\PFAS\\Lib\\site-packages\\flopy\\mf6\\mfpackage.py:1843\u001b[0m, in \u001b[0;36mMFPackage.__init__\u001b[1;34m(self, parent, package_type, filename, pname, loading_package, **kwargs)\u001b[0m\n\u001b[0;32m   1827\u001b[0m         \u001b[38;5;28;01mraise\u001b[39;00m MFDataException(\n\u001b[0;32m   1828\u001b[0m             \u001b[38;5;28mself\u001b[39m\u001b[38;5;241m.\u001b[39mmodel_name,\n\u001b[0;32m   1829\u001b[0m             pname,\n\u001b[1;32m   (...)\u001b[0m\n\u001b[0;32m   1838\u001b[0m             \u001b[38;5;28mself\u001b[39m\u001b[38;5;241m.\u001b[39mmodel_or_sim\u001b[38;5;241m.\u001b[39msimulation_data\u001b[38;5;241m.\u001b[39mdebug,\n\u001b[0;32m   1839\u001b[0m         )\n\u001b[0;32m   1840\u001b[0m     \u001b[38;5;28mself\u001b[39m\u001b[38;5;241m.\u001b[39m_filename \u001b[38;5;241m=\u001b[39m datautil\u001b[38;5;241m.\u001b[39mclean_filename(\n\u001b[0;32m   1841\u001b[0m         \u001b[38;5;28mstr\u001b[39m(filename)\u001b[38;5;241m.\u001b[39mreplace(\u001b[38;5;124m\"\u001b[39m\u001b[38;5;130;01m\\\\\u001b[39;00m\u001b[38;5;124m\"\u001b[39m, \u001b[38;5;124m\"\u001b[39m\u001b[38;5;124m/\u001b[39m\u001b[38;5;124m\"\u001b[39m)\n\u001b[0;32m   1842\u001b[0m     )\n\u001b[1;32m-> 1843\u001b[0m \u001b[38;5;28mself\u001b[39m\u001b[38;5;241m.\u001b[39mpath, \u001b[38;5;28mself\u001b[39m\u001b[38;5;241m.\u001b[39mstructure \u001b[38;5;241m=\u001b[39m \u001b[38;5;28;43mself\u001b[39;49m\u001b[38;5;241;43m.\u001b[39;49m\u001b[43mmodel_or_sim\u001b[49m\u001b[38;5;241;43m.\u001b[39;49m\u001b[43mregister_package\u001b[49m\u001b[43m(\u001b[49m\n\u001b[0;32m   1844\u001b[0m \u001b[43m    \u001b[49m\u001b[38;5;28;43mself\u001b[39;49m\u001b[43m,\u001b[49m\u001b[43m \u001b[49m\u001b[38;5;129;43;01mnot\u001b[39;49;00m\u001b[43m \u001b[49m\u001b[43mloading_package\u001b[49m\u001b[43m,\u001b[49m\u001b[43m \u001b[49m\u001b[43mpname\u001b[49m\u001b[43m \u001b[49m\u001b[38;5;129;43;01mis\u001b[39;49;00m\u001b[43m \u001b[49m\u001b[38;5;28;43;01mNone\u001b[39;49;00m\u001b[43m,\u001b[49m\u001b[43m \u001b[49m\u001b[43mfilename\u001b[49m\u001b[43m \u001b[49m\u001b[38;5;129;43;01mis\u001b[39;49;00m\u001b[43m \u001b[49m\u001b[38;5;28;43;01mNone\u001b[39;49;00m\n\u001b[0;32m   1845\u001b[0m \u001b[43m\u001b[49m\u001b[43m)\u001b[49m\n\u001b[0;32m   1846\u001b[0m \u001b[38;5;28mself\u001b[39m\u001b[38;5;241m.\u001b[39mdimensions \u001b[38;5;241m=\u001b[39m \u001b[38;5;28mself\u001b[39m\u001b[38;5;241m.\u001b[39mcreate_package_dimensions()\n\u001b[0;32m   1848\u001b[0m \u001b[38;5;28;01mif\u001b[39;00m \u001b[38;5;28mself\u001b[39m\u001b[38;5;241m.\u001b[39mpath \u001b[38;5;129;01mis\u001b[39;00m \u001b[38;5;28;01mNone\u001b[39;00m:\n",
      "File \u001b[1;32m~\\AppData\\Local\\miniconda3\\envs\\PFAS\\Lib\\site-packages\\flopy\\mf6\\mfsimbase.py:2260\u001b[0m, in \u001b[0;36mMFSimulationBase.register_package\u001b[1;34m(self, package, add_to_package_list, set_package_name, set_package_filename)\u001b[0m\n\u001b[0;32m   2258\u001b[0m         \u001b[38;5;28mself\u001b[39m\u001b[38;5;241m.\u001b[39mregister_solution_package(package, unregistered_models)\n\u001b[0;32m   2259\u001b[0m     \u001b[38;5;28;01melse\u001b[39;00m:\n\u001b[1;32m-> 2260\u001b[0m         \u001b[38;5;28;43mself\u001b[39;49m\u001b[38;5;241;43m.\u001b[39;49m\u001b[43mregister_solution_package\u001b[49m\u001b[43m(\u001b[49m\u001b[43mpackage\u001b[49m\u001b[43m,\u001b[49m\u001b[43m \u001b[49m\u001b[38;5;28;43;01mNone\u001b[39;49;00m\u001b[43m)\u001b[49m\n\u001b[0;32m   2261\u001b[0m     \u001b[38;5;28;01mreturn\u001b[39;00m (\n\u001b[0;32m   2262\u001b[0m         path,\n\u001b[0;32m   2263\u001b[0m         \u001b[38;5;28mself\u001b[39m\u001b[38;5;241m.\u001b[39mstructure\u001b[38;5;241m.\u001b[39mpackage_struct_objs[\n\u001b[0;32m   2264\u001b[0m             package\u001b[38;5;241m.\u001b[39mpackage_type\u001b[38;5;241m.\u001b[39mlower()\n\u001b[0;32m   2265\u001b[0m         ],\n\u001b[0;32m   2266\u001b[0m     )\n\u001b[0;32m   2267\u001b[0m \u001b[38;5;28;01melse\u001b[39;00m:\n",
      "File \u001b[1;32m~\\AppData\\Local\\miniconda3\\envs\\PFAS\\Lib\\site-packages\\flopy\\mf6\\mfsimbase.py:1372\u001b[0m, in \u001b[0;36mMFSimulationBase.register_solution_package\u001b[1;34m(self, solution_file, model_list)\u001b[0m\n\u001b[0;32m   1368\u001b[0m     solution_file\u001b[38;5;241m.\u001b[39mpackage_name \u001b[38;5;241m=\u001b[39m (\n\u001b[0;32m   1369\u001b[0m         \u001b[38;5;124mf\u001b[39m\u001b[38;5;124m\"\u001b[39m\u001b[38;5;132;01m{\u001b[39;00msolution_file\u001b[38;5;241m.\u001b[39mpackage_type\u001b[38;5;132;01m}\u001b[39;00m\u001b[38;5;124m_\u001b[39m\u001b[38;5;132;01m{\u001b[39;00mfile_num\u001b[38;5;132;01m}\u001b[39;00m\u001b[38;5;124m\"\u001b[39m\n\u001b[0;32m   1370\u001b[0m     )\n\u001b[0;32m   1371\u001b[0m \u001b[38;5;28;01mif\u001b[39;00m solution_file\u001b[38;5;241m.\u001b[39mfilename \u001b[38;5;129;01min\u001b[39;00m \u001b[38;5;28mself\u001b[39m\u001b[38;5;241m.\u001b[39m_solution_files:\n\u001b[1;32m-> 1372\u001b[0m     \u001b[43msolution_file\u001b[49m\u001b[38;5;241;43m.\u001b[39;49m\u001b[43mfilename\u001b[49m \u001b[38;5;241m=\u001b[39m MFFileMgmt\u001b[38;5;241m.\u001b[39munique_file_name(\n\u001b[0;32m   1373\u001b[0m         solution_file\u001b[38;5;241m.\u001b[39mfilename, \u001b[38;5;28mself\u001b[39m\u001b[38;5;241m.\u001b[39m_solution_files\n\u001b[0;32m   1374\u001b[0m     )\n\u001b[0;32m   1375\u001b[0m \u001b[38;5;66;03m# add solution package to simulation\u001b[39;00m\n\u001b[0;32m   1376\u001b[0m \u001b[38;5;28mself\u001b[39m\u001b[38;5;241m.\u001b[39m_solution_files[solution_file\u001b[38;5;241m.\u001b[39mfilename] \u001b[38;5;241m=\u001b[39m solution_file\n",
      "File \u001b[1;32m~\\AppData\\Local\\miniconda3\\envs\\PFAS\\Lib\\site-packages\\flopy\\mf6\\mfpackage.py:1918\u001b[0m, in \u001b[0;36mMFPackage.__setattr__\u001b[1;34m(self, name, value)\u001b[0m\n\u001b[0;32m   1915\u001b[0m         \u001b[38;5;28;01mif\u001b[39;00m \u001b[38;5;129;01mnot\u001b[39;00m \u001b[38;5;28mself\u001b[39m\u001b[38;5;241m.\u001b[39mmodel_or_sim\u001b[38;5;241m.\u001b[39m_mg_resync:\n\u001b[0;32m   1916\u001b[0m             \u001b[38;5;28mself\u001b[39m\u001b[38;5;241m.\u001b[39mmodel_or_sim\u001b[38;5;241m.\u001b[39m_mg_resync \u001b[38;5;241m=\u001b[39m \u001b[38;5;28mself\u001b[39m\u001b[38;5;241m.\u001b[39m_mg_resync\n\u001b[1;32m-> 1918\u001b[0m \u001b[38;5;28;43msuper\u001b[39;49m\u001b[43m(\u001b[49m\u001b[43m)\u001b[49m\u001b[38;5;241;43m.\u001b[39;49m\u001b[38;5;21;43m__setattr__\u001b[39;49m\u001b[43m(\u001b[49m\u001b[43mname\u001b[49m\u001b[43m,\u001b[49m\u001b[43m \u001b[49m\u001b[43mvalue\u001b[49m\u001b[43m)\u001b[49m\n",
      "File \u001b[1;32m~\\AppData\\Local\\miniconda3\\envs\\PFAS\\Lib\\site-packages\\flopy\\mf6\\mfpackage.py:1958\u001b[0m, in \u001b[0;36mMFPackage.filename\u001b[1;34m(self, fname)\u001b[0m\n\u001b[0;32m   1956\u001b[0m \u001b[38;5;28;01mif\u001b[39;00m \u001b[38;5;28mself\u001b[39m\u001b[38;5;241m.\u001b[39mmodel_or_sim \u001b[38;5;129;01mis\u001b[39;00m \u001b[38;5;129;01mnot\u001b[39;00m \u001b[38;5;28;01mNone\u001b[39;00m \u001b[38;5;129;01mand\u001b[39;00m fname \u001b[38;5;129;01mis\u001b[39;00m \u001b[38;5;129;01mnot\u001b[39;00m \u001b[38;5;28;01mNone\u001b[39;00m:\n\u001b[0;32m   1957\u001b[0m     \u001b[38;5;28;01mif\u001b[39;00m \u001b[38;5;28mself\u001b[39m\u001b[38;5;241m.\u001b[39m_package_type \u001b[38;5;241m!=\u001b[39m \u001b[38;5;124m\"\u001b[39m\u001b[38;5;124mnam\u001b[39m\u001b[38;5;124m\"\u001b[39m:\n\u001b[1;32m-> 1958\u001b[0m         \u001b[38;5;28;43mself\u001b[39;49m\u001b[38;5;241;43m.\u001b[39;49m\u001b[43mmodel_or_sim\u001b[49m\u001b[38;5;241;43m.\u001b[39;49m\u001b[43mupdate_package_filename\u001b[49m\u001b[43m(\u001b[49m\u001b[38;5;28;43mself\u001b[39;49m\u001b[43m,\u001b[49m\u001b[43m \u001b[49m\u001b[43mfname\u001b[49m\u001b[43m)\u001b[49m\n\u001b[0;32m   1959\u001b[0m \u001b[38;5;28mself\u001b[39m\u001b[38;5;241m.\u001b[39m_filename \u001b[38;5;241m=\u001b[39m fname\n",
      "File \u001b[1;32m~\\AppData\\Local\\miniconda3\\envs\\PFAS\\Lib\\site-packages\\flopy\\mf6\\mfsimbase.py:1562\u001b[0m, in \u001b[0;36mMFSimulationBase.update_package_filename\u001b[1;34m(self, package, new_name)\u001b[0m\n\u001b[0;32m   1558\u001b[0m \u001b[38;5;28;01melif\u001b[39;00m package\u001b[38;5;241m.\u001b[39mfilename \u001b[38;5;129;01min\u001b[39;00m \u001b[38;5;28mself\u001b[39m\u001b[38;5;241m.\u001b[39m_solution_files:\n\u001b[0;32m   1559\u001b[0m     \u001b[38;5;28mself\u001b[39m\u001b[38;5;241m.\u001b[39m_solution_files[new_name] \u001b[38;5;241m=\u001b[39m \u001b[38;5;28mself\u001b[39m\u001b[38;5;241m.\u001b[39m_solution_files\u001b[38;5;241m.\u001b[39mpop(\n\u001b[0;32m   1560\u001b[0m         package\u001b[38;5;241m.\u001b[39mfilename\n\u001b[0;32m   1561\u001b[0m     )\n\u001b[1;32m-> 1562\u001b[0m     \u001b[38;5;28;43mself\u001b[39;49m\u001b[38;5;241;43m.\u001b[39;49m\u001b[43m_update_solution_group\u001b[49m\u001b[43m(\u001b[49m\u001b[43mpackage\u001b[49m\u001b[38;5;241;43m.\u001b[39;49m\u001b[43mfilename\u001b[49m\u001b[43m,\u001b[49m\u001b[43m \u001b[49m\u001b[43mnew_name\u001b[49m\u001b[43m)\u001b[49m\n\u001b[0;32m   1563\u001b[0m \u001b[38;5;28;01melse\u001b[39;00m:\n\u001b[0;32m   1564\u001b[0m     \u001b[38;5;28mself\u001b[39m\u001b[38;5;241m.\u001b[39m_other_files[new_name] \u001b[38;5;241m=\u001b[39m \u001b[38;5;28mself\u001b[39m\u001b[38;5;241m.\u001b[39m_other_files\u001b[38;5;241m.\u001b[39mpop(\n\u001b[0;32m   1565\u001b[0m         package\u001b[38;5;241m.\u001b[39mfilename\n\u001b[0;32m   1566\u001b[0m     )\n",
      "File \u001b[1;32m~\\AppData\\Local\\miniconda3\\envs\\PFAS\\Lib\\site-packages\\flopy\\mf6\\mfsimbase.py:2526\u001b[0m, in \u001b[0;36mMFSimulationBase._update_solution_group\u001b[1;34m(self, solution_file, new_name)\u001b[0m\n\u001b[0;32m   2523\u001b[0m \u001b[38;5;28;01mif\u001b[39;00m \u001b[38;5;129;01mnot\u001b[39;00m new_array:\n\u001b[0;32m   2524\u001b[0m     new_array \u001b[38;5;241m=\u001b[39m \u001b[38;5;28;01mNone\u001b[39;00m\n\u001b[1;32m-> 2526\u001b[0m \u001b[43msolution_recarray\u001b[49m\u001b[38;5;241;43m.\u001b[39;49m\u001b[43mset_data\u001b[49m\u001b[43m(\u001b[49m\u001b[43mnew_array\u001b[49m\u001b[43m,\u001b[49m\u001b[43m \u001b[49m\u001b[43msolution_group_num\u001b[49m\u001b[43m[\u001b[49m\u001b[38;5;241;43m0\u001b[39;49m\u001b[43m]\u001b[49m\u001b[43m)\u001b[49m\n",
      "File \u001b[1;32m~\\AppData\\Local\\miniconda3\\envs\\PFAS\\Lib\\site-packages\\flopy\\mf6\\data\\mfdatalist.py:1823\u001b[0m, in \u001b[0;36mMFTransientList.set_data\u001b[1;34m(self, data, key, autofill)\u001b[0m\n\u001b[0;32m   1806\u001b[0m \u001b[38;5;28;01mdef\u001b[39;00m\u001b[38;5;250m \u001b[39m\u001b[38;5;21mset_data\u001b[39m(\u001b[38;5;28mself\u001b[39m, data, key\u001b[38;5;241m=\u001b[39m\u001b[38;5;28;01mNone\u001b[39;00m, autofill\u001b[38;5;241m=\u001b[39m\u001b[38;5;28;01mFalse\u001b[39;00m):\n\u001b[0;32m   1807\u001b[0m \u001b[38;5;250m    \u001b[39m\u001b[38;5;124;03m\"\"\"Sets the contents of the data at time `key` to `data`.\u001b[39;00m\n\u001b[0;32m   1808\u001b[0m \n\u001b[0;32m   1809\u001b[0m \u001b[38;5;124;03m    Parameters\u001b[39;00m\n\u001b[1;32m   (...)\u001b[0m\n\u001b[0;32m   1821\u001b[0m \u001b[38;5;124;03m        Automatically correct data.\u001b[39;00m\n\u001b[0;32m   1822\u001b[0m \u001b[38;5;124;03m    \"\"\"\u001b[39;00m\n\u001b[1;32m-> 1823\u001b[0m     \u001b[38;5;28;43mself\u001b[39;49m\u001b[38;5;241;43m.\u001b[39;49m\u001b[43m_set_data_record\u001b[49m\u001b[43m(\u001b[49m\u001b[43mdata\u001b[49m\u001b[43m,\u001b[49m\u001b[43m \u001b[49m\u001b[43mkey\u001b[49m\u001b[43m,\u001b[49m\u001b[43m \u001b[49m\u001b[43mautofill\u001b[49m\u001b[43m)\u001b[49m\n",
      "File \u001b[1;32m~\\AppData\\Local\\miniconda3\\envs\\PFAS\\Lib\\site-packages\\flopy\\mf6\\data\\mfdatalist.py:1897\u001b[0m, in \u001b[0;36mMFTransientList._set_data_record\u001b[1;34m(self, data, key, autofill, check_data, is_record)\u001b[0m\n\u001b[0;32m   1892\u001b[0m \u001b[38;5;28;01melse\u001b[39;00m:\n\u001b[0;32m   1893\u001b[0m     check \u001b[38;5;241m=\u001b[39m \u001b[38;5;28;01mTrue\u001b[39;00m\n\u001b[0;32m   1894\u001b[0m     \u001b[38;5;28;01mif\u001b[39;00m (\n\u001b[0;32m   1895\u001b[0m         \u001b[38;5;28misinstance\u001b[39m(data, \u001b[38;5;28mlist\u001b[39m)\n\u001b[0;32m   1896\u001b[0m         \u001b[38;5;129;01mand\u001b[39;00m \u001b[38;5;28mlen\u001b[39m(data) \u001b[38;5;241m>\u001b[39m \u001b[38;5;241m0\u001b[39m\n\u001b[1;32m-> 1897\u001b[0m         \u001b[38;5;129;01mand\u001b[39;00m \u001b[43mdata\u001b[49m\u001b[43m[\u001b[49m\u001b[38;5;241;43m0\u001b[39;49m\u001b[43m]\u001b[49m\u001b[43m \u001b[49m\u001b[38;5;241;43m==\u001b[39;49m\u001b[43m \u001b[49m\u001b[38;5;124;43m\"\u001b[39;49m\u001b[38;5;124;43mno_check\u001b[39;49m\u001b[38;5;124;43m\"\u001b[39;49m\n\u001b[0;32m   1898\u001b[0m     ):\n\u001b[0;32m   1899\u001b[0m         \u001b[38;5;66;03m# not checking data\u001b[39;00m\n\u001b[0;32m   1900\u001b[0m         check \u001b[38;5;241m=\u001b[39m \u001b[38;5;28;01mFalse\u001b[39;00m\n\u001b[0;32m   1901\u001b[0m         data \u001b[38;5;241m=\u001b[39m data[\u001b[38;5;241m1\u001b[39m:]\n",
      "\u001b[1;31mTypeError\u001b[0m: Cannot compare structured or void to non-void arrays."
     ]
    }
   ],
   "source": [
    "# IMS package for the GWT model\n",
    "ims_pfoa = flopy.mf6.ModflowIms(\n",
    "    sim,\n",
    "    pname='ims_pfoa',\n",
    "    filename='peterson_pfoa.ims',\n",
    "    complexity='COMPLEX',\n",
    "    linear_acceleration='BICGSTAB',\n",
    "    outer_maximum=100,\n",
    "    inner_maximum=500,\n",
    "    inner_dvclose=0.1,\n",
    "    outer_dvclose=0.1,\n",
    "    rcloserecord=8460, \n",
    "    no_ptcrecord='FIRST'\n",
    ")\n",
    "sim.register_ims_package(ims_pfoa, [pfoa_name])  # Assign ims_gwt to the GWT model"
   ]
  },
  {
   "cell_type": "code",
   "execution_count": null,
   "id": "6dac9443-acb3-4d61-9162-9261e05629ad",
   "metadata": {},
   "outputs": [],
   "source": [
    "# IMS package for the GWT model\n",
    "ims_pfhxs = flopy.mf6.ModflowIms(\n",
    "    sim,\n",
    "    pname='ims_pfhxs',\n",
    "    filename='peterson_pfhxs.ims',\n",
    "    complexity='COMPLEX',\n",
    "    linear_acceleration='BICGSTAB',\n",
    "    outer_maximum=100,\n",
    "    inner_maximum=500,\n",
    "    inner_dvclose=0.1,\n",
    "    outer_dvclose=0.1,\n",
    "    rcloserecord=8460, \n",
    "    no_ptcrecord='FIRST'\n",
    ")\n",
    "sim.register_ims_package(ims_pfhxs, [pfhxs_name])  # Assign ims_gwt to the GWT model"
   ]
  },
  {
   "cell_type": "markdown",
   "id": "c34cbcd3-4fb8-416d-9845-7654c2796825",
   "metadata": {},
   "source": [
    "### Write Redundant Package Information"
   ]
  },
  {
   "cell_type": "code",
   "execution_count": null,
   "id": "eb5e08b6-c5b2-4a5a-846b-ae0108b7f20f",
   "metadata": {},
   "outputs": [],
   "source": [
    "# Get redundant packages\n",
    "dis = gwt_pfos.get_package('dis')\n",
    "ic  = gwt_pfos.get_package('ic')\n",
    "adv = gwt_pfos.get_package('adv')\n",
    "dsp = gwt_pfos.get_package('dsp')\n",
    "ist = gwt_pfos.get_package('ist')\n",
    "\n",
    "# Place in list for iteration\n",
    "redundant_packages = [dis, ic, adv, dsp, ist]"
   ]
  },
  {
   "cell_type": "markdown",
   "id": "fba7f51a-33a4-4176-9d5c-d27083062e9c",
   "metadata": {},
   "source": [
    "#### DIS"
   ]
  },
  {
   "cell_type": "code",
   "execution_count": null,
   "id": "fa2afd23-8074-4587-b841-915c74fdbeae",
   "metadata": {},
   "outputs": [],
   "source": [
    "dis_pfoa = mf6.ModflowGwtdis(\n",
    "    gwt_pfoa,\n",
    "    pname='dis',\n",
    "    filename='peterson_pfoa.dis',\n",
    "    length_units='METERS',\n",
    "    nlay=dis.nlay.data,\n",
    "    nrow=dis.nrow.data,\n",
    "    ncol=dis.ncol.data,\n",
    "    delr=20,\n",
    "    delc=20,\n",
    "    top='data-files/dis-top-elev.dat',\n",
    "    botm='data-files/dis-bedrock-elev.dat',\n",
    "    idomain='data-files/dis-idomain.dat',\n",
    "    xorigin=dis.xorigin.data,\n",
    "    yorigin=dis.yorigin.data,\n",
    "    angrot=dis.angrot.data\n",
    ")\n",
    "\n",
    "dis_pfhxs = mf6.ModflowGwtdis(\n",
    "    gwt_pfhxs,\n",
    "    pname='dis',\n",
    "    filename='peterson_pfhxs.dis',\n",
    "    length_units='METERS',\n",
    "    nlay=dis.nlay.data,\n",
    "    nrow=dis.nrow.data,\n",
    "    ncol=dis.ncol.data,\n",
    "    delr=20,\n",
    "    delc=20,\n",
    "    top='data-files/dis-top-elev.dat',\n",
    "    botm='data-files/dis-bedrock-elev.dat',\n",
    "    idomain='data-files/dis-idomain.dat',\n",
    "    xorigin=dis.xorigin.data,\n",
    "    yorigin=dis.yorigin.data,\n",
    "    angrot=dis.angrot.data\n",
    ")"
   ]
  },
  {
   "cell_type": "markdown",
   "id": "e1160783-a29c-4a03-b1b5-7d737e293045",
   "metadata": {},
   "source": [
    "#### IC"
   ]
  },
  {
   "cell_type": "code",
   "execution_count": null,
   "id": "9d7d1725-52a6-40b9-8f46-dbaaab57f450",
   "metadata": {},
   "outputs": [],
   "source": [
    "ic_pfoa = flopy.mf6.ModflowGwtic(\n",
    "    gwt_pfoa,\n",
    "    strt=0,\n",
    "    pname='ic',\n",
    ")\n",
    "\n",
    "ic_pfhxs = flopy.mf6.ModflowGwtic(\n",
    "    gwt_pfhxs,\n",
    "    strt=0,\n",
    "    pname='ic',\n",
    ")"
   ]
  },
  {
   "cell_type": "markdown",
   "id": "58fd8d59-8900-4b86-b8ca-0eee06c8e60d",
   "metadata": {},
   "source": [
    "#### ADV "
   ]
  },
  {
   "cell_type": "code",
   "execution_count": null,
   "id": "4477c6b5-c298-4fc6-b5c9-506fb783ddf5",
   "metadata": {},
   "outputs": [],
   "source": [
    "adv_pfoa = flopy.mf6.ModflowGwtadv(\n",
    "    gwt_pfoa,\n",
    "    scheme=adv.scheme.data,\n",
    "    pname='adv',\n",
    ")\n",
    "\n",
    "adv_pfhxs = flopy.mf6.ModflowGwtadv(\n",
    "    gwt_pfhxs,\n",
    "    scheme=adv.scheme.data,\n",
    "    pname='adv',\n",
    ")"
   ]
  },
  {
   "cell_type": "markdown",
   "id": "1da2c65f-40fa-406e-8b9e-50880ee1bae5",
   "metadata": {},
   "source": [
    "#### DSP"
   ]
  },
  {
   "cell_type": "code",
   "execution_count": null,
   "id": "c3d5dc88-8dd8-441e-8116-7a9c073e457a",
   "metadata": {},
   "outputs": [],
   "source": [
    "alh =  {'filename':'data-files/tran-dispersion.dat', 'factor': 1.0}\n",
    "ath1 = {'filename':'data-files/tran-dispersion.dat', 'factor': 0.1}\n",
    "atv =  {'filename':'data-files/tran-dispersion.dat', 'factor':0.01}\n",
    "\n",
    "dsp_pfoa = flopy.mf6.ModflowGwtdsp(\n",
    "    gwt_pfoa,\n",
    "    alh=alh,\n",
    "    ath1=ath1,\n",
    "    atv=atv,\n",
    "    pname='dsp',\n",
    ")\n",
    "\n",
    "dsp = flopy.mf6.ModflowGwtdsp(\n",
    "    gwt_pfhxs,\n",
    "    alh=alh,\n",
    "    ath1=ath1,\n",
    "    atv=atv,\n",
    "    pname='dsp',\n",
    ")"
   ]
  },
  {
   "cell_type": "markdown",
   "id": "96cf1164-9650-4096-8c7f-4eb577c7f731",
   "metadata": {},
   "source": [
    "#### IST"
   ]
  },
  {
   "cell_type": "code",
   "execution_count": null,
   "id": "7e5d498f-5488-4eb9-9186-5e701360722d",
   "metadata": {},
   "outputs": [],
   "source": [
    "ist_pfoa = flopy.mf6.ModflowGwtist(\n",
    "    gwt_pfoa,\n",
    "    pname='ist',\n",
    "    sorption='LINEAR',\n",
    "    porosity='data-files/tran-immobile-porosity.dat',\n",
    "    volfrac=0.1,\n",
    "    zetaim=0.001,\n",
    "    bulk_density='data-files/tran-bulk-density.dat',\n",
    "    distcoef=0.002754\n",
    ")\n",
    "\n",
    "ist_pfhxs = flopy.mf6.ModflowGwtist(\n",
    "    gwt_pfhxs,\n",
    "    pname='ist',\n",
    "    sorption='LINEAR',\n",
    "    porosity='data-files/tran-immobile-porosity.dat',\n",
    "    volfrac=0.1,\n",
    "    zetaim=0.001,\n",
    "    bulk_density='data-files/tran-bulk-density.dat',\n",
    "    distcoef=0.002754\n",
    ")"
   ]
  },
  {
   "cell_type": "markdown",
   "id": "95997365-c7e9-4132-a4aa-b6708a682c7a",
   "metadata": {},
   "source": [
    "### Create Non-Unique packages"
   ]
  },
  {
   "cell_type": "markdown",
   "id": "3e697052-9c36-4cfc-aaa3-0068fd761023",
   "metadata": {},
   "source": [
    "#### MST"
   ]
  },
  {
   "cell_type": "code",
   "execution_count": null,
   "id": "a7e38ad5-b3e7-4718-8392-4602b7905814",
   "metadata": {},
   "outputs": [],
   "source": [
    "mst_pfoa = flopy.mf6.ModflowGwtmst(\n",
    "    gwt_pfoa,\n",
    "    sorption='LINEAR',\n",
    "    porosity='data-files/tran-porosity.dat',\n",
    "    bulk_density='data-files/tran-bulk-density.dat',\n",
    "    distcoef='data-files/tran-Kd-pfoa.dat'\n",
    ")\n",
    "\n",
    "mst_pfhxs = flopy.mf6.ModflowGwtmst(\n",
    "    gwt_pfhxs,\n",
    "    sorption='LINEAR',\n",
    "    porosity='data-files/tran-porosity.dat',\n",
    "    bulk_density='data-files/tran-bulk-density.dat',\n",
    "    distcoef='data-files/tran-Kd-pfhxs.dat'\n",
    ")"
   ]
  },
  {
   "cell_type": "markdown",
   "id": "16e47a2c-1b1d-4006-aca4-16be3a2c5188",
   "metadata": {},
   "source": [
    "#### SSM"
   ]
  },
  {
   "cell_type": "code",
   "execution_count": null,
   "id": "7e98a3f6-201b-45c6-ae12-36d146059981",
   "metadata": {},
   "outputs": [],
   "source": [
    "ssm_pfoa = flopy.mf6.ModflowGwtssm(\n",
    "    gwt_pfoa, \n",
    "    pname='ssm',\n",
    "    sources=['rch_solutes', 'AUX', 'PFOA']\n",
    ")\n",
    "\n",
    "ssm_pfhxs = flopy.mf6.ModflowGwtssm(\n",
    "    gwt_pfhxs, \n",
    "    pname='ssm',\n",
    "    sources=['rch_solutes', 'AUX', 'PFHxS']\n",
    ")"
   ]
  },
  {
   "cell_type": "markdown",
   "id": "04412666-57a4-4cc7-abd9-7475a7cd93f6",
   "metadata": {},
   "source": [
    "### OBS"
   ]
  },
  {
   "cell_type": "markdown",
   "id": "209ce185-7eff-4950-b4c7-093af57410e7",
   "metadata": {},
   "source": [
    "#### Downstream Wells"
   ]
  },
  {
   "cell_type": "code",
   "execution_count": null,
   "id": "0112e526-2c95-4ac8-992d-cb927adef9b5",
   "metadata": {},
   "outputs": [],
   "source": [
    "downstream_wells = pd.read_csv('../input-files/data-files/tran-targets-downstream.csv')\n",
    "\n",
    "idomain = np.loadtxt('../input-files/data-files/dis-idomain.dat')"
   ]
  },
  {
   "cell_type": "code",
   "execution_count": null,
   "id": "a5eba606-4bd8-4a53-adb3-7e028481ca19",
   "metadata": {},
   "outputs": [],
   "source": [
    "well_data = {}\n",
    "\n",
    "for i, well in downstream_wells.iterrows():\n",
    "    # Extract the cell's row and column indices\n",
    "    layer, row, col = 0, int(well['x']), int(well['y'])  # Layer hardcoded to 0\n",
    "\n",
    "    # Check cell in valid domain\n",
    "    if idomain[row, col] == 1:\n",
    "        well_data[well['Well Name']] = (layer, row, col)\n",
    "\n",
    "    else:\n",
    "        well_data[well['Well Name']] = None\n",
    "        print(f\"Well {well['Well Name']} is in an inactive cell ({layer}, {row}, {col})\")"
   ]
  },
  {
   "cell_type": "code",
   "execution_count": null,
   "id": "ccef5c36-b2b2-4cb6-bb4a-c6dd7da54bfb",
   "metadata": {},
   "outputs": [],
   "source": [
    "obs_pfoa = []\n",
    "obs_pfhxs = []\n",
    "\n",
    "for name, cell in well_data.items():\n",
    "    if cell:\n",
    "        obs_pfoa.append((f\"{name}\", 'CONCENTRATION', cell))\n",
    "        obs_pfhxs.append((f\"{name}\", 'CONCENTRATION', cell))"
   ]
  },
  {
   "cell_type": "markdown",
   "id": "1ac46ab5-c684-4057-ad34-d56d15d51ac4",
   "metadata": {},
   "source": [
    "#### Upstream Wells"
   ]
  },
  {
   "cell_type": "code",
   "execution_count": null,
   "id": "38158f71-bf92-4372-a607-62d99a7735c2",
   "metadata": {},
   "outputs": [],
   "source": [
    "# Geolocation of model grid\n",
    "rot = 30\n",
    "xorigin = 525532.4922815983\n",
    "yorigin = 4276158.318078171"
   ]
  },
  {
   "cell_type": "code",
   "execution_count": null,
   "id": "70918cd4-993b-4e60-ade4-b747ba3a9c14",
   "metadata": {},
   "outputs": [],
   "source": [
    "upstream_pfoa = pd.read_csv('../input-files/data-files/tran-PFOA-targets.csv')\n",
    "upstream_pfhxs = pd.read_csv('../input-files/data-files/tran-PFHxS-targets.csv')"
   ]
  },
  {
   "cell_type": "code",
   "execution_count": null,
   "id": "a2d77c6d-a40c-4b2b-997b-cf9e9304b664",
   "metadata": {},
   "outputs": [],
   "source": [
    "for _, row in upstream_pfoa.iterrows():\n",
    "    cell = fw.locate_well_rotated(row['x'], row['y'], xorigin, yorigin, 20,20, 972, 700, rot)\n",
    "    \n",
    "    if cell:\n",
    "        obs_pfoa.append((f\"{row['Well_ID']}\", 'CONCENTRATION', (0, cell[0], cell[1])))"
   ]
  },
  {
   "cell_type": "code",
   "execution_count": null,
   "id": "614dd822-2855-4011-8e86-a6ca603b616a",
   "metadata": {},
   "outputs": [],
   "source": [
    "for _, row in upstream_pfhxs.iterrows():\n",
    "    cell = fw.locate_well_rotated(row['x'], row['y'], xorigin, yorigin, 20,20, 972, 700, rot)\n",
    "    \n",
    "    if cell:\n",
    "        obs_pfhxs.append((f\"{row['Well_ID']}\", 'CONCENTRATION', (0, cell[0], cell[1])))"
   ]
  },
  {
   "cell_type": "code",
   "execution_count": null,
   "id": "e5116192-9c93-4a99-927f-02d7c6843c23",
   "metadata": {},
   "outputs": [],
   "source": [
    "obs_package_pfoa = flopy.mf6.ModflowUtlobs(\n",
    "    gwt_pfoa,\n",
    "    pname='obs_pfoa',\n",
    "    digits=10,\n",
    "    print_input=True,\n",
    "    continuous={'../output-files/pfoa_obs.csv':obs_pfoa}\n",
    ")"
   ]
  },
  {
   "cell_type": "code",
   "execution_count": null,
   "id": "2cd31484-768a-42bd-9a35-12dba7f7ee26",
   "metadata": {},
   "outputs": [],
   "source": [
    "obs_package_pfhxs = flopy.mf6.ModflowUtlobs(\n",
    "    gwt_pfhxs,\n",
    "    pname='obs_pfhxs',\n",
    "    digits=10,\n",
    "    print_input=True,\n",
    "    continuous={'../output-files/pfhxs_obs.csv':obs_pfhxs}\n",
    ")"
   ]
  },
  {
   "cell_type": "markdown",
   "id": "9281efc2-2e10-42d7-9ac7-e623d9f304e8",
   "metadata": {},
   "source": [
    "#### OC"
   ]
  },
  {
   "cell_type": "code",
   "execution_count": null,
   "id": "0beb68e6-5184-40da-ac1b-5a6a9fe3c4f2",
   "metadata": {},
   "outputs": [],
   "source": [
    "oc_pfoa = flopy.mf6.ModflowGwtoc(\n",
    "    gwt_pfoa,\n",
    "    pname='oc_pfoa',\n",
    "    concentration_filerecord='../output-files/PFOA_conc.ucn',\n",
    "    saverecord= ['CONCENTRATION', 'ALL'],\n",
    "    printrecord= ['CONCENTRATION', 'ALL']\n",
    ")\n",
    "\n",
    "oc_pfhxs = flopy.mf6.ModflowGwtoc(\n",
    "    gwt_pfhxs,\n",
    "    pname='oc_pfhxs',\n",
    "    concentration_filerecord='../output-files/PFHxS_conc.ucn',\n",
    "    saverecord= ['CONCENTRATION', 'ALL'],\n",
    "    printrecord= ['CONCENTRATION', 'ALL']\n",
    ")"
   ]
  },
  {
   "cell_type": "markdown",
   "id": "49ea7959-1d90-416f-aa68-39aad79ebf71",
   "metadata": {},
   "source": [
    "### Exchange Files"
   ]
  },
  {
   "cell_type": "code",
   "execution_count": null,
   "id": "7b005486-a638-47f3-bee4-5e43d02e6883",
   "metadata": {},
   "outputs": [],
   "source": [
    "exg_pfoa = flopy.mf6.ModflowGwfgwt(\n",
    "    sim, exgmnamea='peterson_flow', exgmnameb=pfoa_name, filename='peterson_pfoa.gwfgwt'\n",
    ")\n",
    "\n",
    "exg_pfhxs = flopy.mf6.ModflowGwfgwt(\n",
    "    sim, exgmnamea='peterson_flow', exgmnameb=pfhxs_name, filename='peterson_pfhxs.gwfgwt'\n",
    ")"
   ]
  },
  {
   "cell_type": "code",
   "execution_count": null,
   "id": "bac69835-5a4e-43c7-8695-5299f781120d",
   "metadata": {},
   "outputs": [],
   "source": [
    "sim.write_simulation()"
   ]
  },
  {
   "cell_type": "code",
   "execution_count": 7,
   "id": "7d322fa3-2df5-4471-9abe-ed03c82b96f0",
   "metadata": {},
   "outputs": [
    {
     "name": "stdout",
     "output_type": "stream",
     "text": [
      "success\n"
     ]
    }
   ],
   "source": [
    "## Uncomment this cell to run the simulation with the flow and PFOS transport model\n",
    "\n",
    "success, buff = sim.run_simulation(silent=True, report=True, use_async=True)\n",
    "assert success"
   ]
  },
  {
   "cell_type": "markdown",
   "id": "65e505da-c550-41bc-a9cd-adb245b58ca5",
   "metadata": {},
   "source": [
    "Following model run, copy outputs to a folder in `../previous-results/` w/ the input conc csv as well."
   ]
  },
  {
   "cell_type": "code",
   "execution_count": null,
   "id": "22a84ef4-a4ab-4267-9ec8-301b99b8f433",
   "metadata": {},
   "outputs": [],
   "source": []
  },
  {
   "cell_type": "code",
   "execution_count": null,
   "id": "e0079d03-4fd9-4407-bac3-8604974298aa",
   "metadata": {},
   "outputs": [],
   "source": []
  }
 ],
 "metadata": {
  "kernelspec": {
   "display_name": "Python 3 (ipykernel)",
   "language": "python",
   "name": "python3"
  },
  "language_info": {
   "codemirror_mode": {
    "name": "ipython",
    "version": 3
   },
   "file_extension": ".py",
   "mimetype": "text/x-python",
   "name": "python",
   "nbconvert_exporter": "python",
   "pygments_lexer": "ipython3",
   "version": "3.12.3"
  }
 },
 "nbformat": 4,
 "nbformat_minor": 5
}
