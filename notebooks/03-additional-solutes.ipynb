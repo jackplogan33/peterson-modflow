{
 "cells": [
  {
   "cell_type": "code",
   "execution_count": 1,
   "id": "c4b51cd9-19ec-4e05-b0eb-0b696303e68d",
   "metadata": {},
   "outputs": [],
   "source": [
    "import flopy\n",
    "import flopy.mf6 as mf6\n",
    "import flopy.plot as fplt\n",
    "\n",
    "import os\n",
    "import numpy as np\n",
    "import pandas as pd\n",
    "import matplotlib.pyplot as plt\n",
    "\n",
    "import cartopy\n",
    "import cartopy.crs as ccrs\n",
    "from cartopy.io.img_tiles import GoogleTiles\n",
    "\n",
    "import findwells as fw"
   ]
  },
  {
   "cell_type": "markdown",
   "id": "0ead21bd-1c60-46ab-a383-1968ff94457c",
   "metadata": {},
   "source": [
    "Fun fact: Flopy and modflow do not support multi-solute transport in the same gwt model. Thus, we have to create separate GWT model objects for each solute. \n",
    "\n",
    "First, let's load in the simulation and the models created up to this point:"
   ]
  },
  {
   "cell_type": "code",
   "execution_count": 2,
   "id": "de438d06-5646-454f-b8be-e9ecc48713ee",
   "metadata": {},
   "outputs": [
    {
     "name": "stdout",
     "output_type": "stream",
     "text": [
      "loading simulation...\n",
      "  loading simulation name file...\n",
      "  loading tdis package...\n",
      "  loading model gwf6...\n",
      "    loading package dis...\n",
      "    loading package ic...\n",
      "    loading package npf...\n",
      "    loading package riv...\n",
      "    loading package obs...\n",
      "    loading package wel...\n",
      "    loading package chd...\n",
      "    loading package sto...\n",
      "    loading package rch...\n",
      "    loading package oc...\n",
      "    loading package rch...\n",
      "  loading model gwt6...\n",
      "    loading package dis...\n",
      "    loading package ic...\n",
      "    loading package adv...\n",
      "    loading package dsp...\n",
      "    loading package mst...\n",
      "    loading package ist...\n",
      "    loading package ssm...\n",
      "    loading package obs...\n",
      "    loading package oc...\n",
      "  loading exchange package gwf-gwt_exg_0...\n",
      "  loading solution package peterson_flow...\n",
      "  loading solution package peterson_pfos...\n"
     ]
    }
   ],
   "source": [
    "sim = mf6.MFSimulation.load(\n",
    "    sim_name='peterson',\n",
    "    exe_name=\"../bin/mf6.exe\", \n",
    "    sim_ws='../input-files/'\n",
    ")"
   ]
  },
  {
   "cell_type": "code",
   "execution_count": 3,
   "id": "0a8ceb21-4497-46bb-a2f6-773905099f64",
   "metadata": {},
   "outputs": [],
   "source": [
    "gwf = sim.get_model('peterson_flow')\n",
    "gwt_pfos = sim.get_model('peterson_pfos')"
   ]
  },
  {
   "cell_type": "markdown",
   "id": "eecf56c0-4350-4a87-9b41-c7829074a705",
   "metadata": {},
   "source": [
    "## Create New Transport Models"
   ]
  },
  {
   "cell_type": "code",
   "execution_count": 4,
   "id": "3bd41e17-bc65-4902-8ec8-8999e00aab3d",
   "metadata": {},
   "outputs": [],
   "source": [
    "pfoa_name = 'peterson_pfoa'\n",
    "pfoa_nam_file = f\"{pfoa_name}.nam\"\n",
    "\n",
    "gwt_pfoa = mf6.ModflowGwt(\n",
    "    sim,\n",
    "    modelname=pfoa_name,\n",
    "    model_nam_file=pfoa_nam_file\n",
    ")\n",
    "\n",
    "pfhxs_name = 'peterson_pfhxs'\n",
    "pfhxs_nam_file = f\"{pfhxs_name}.nam\"\n",
    "\n",
    "gwt_pfhxs = mf6.ModflowGwt(\n",
    "    sim,\n",
    "    modelname=pfhxs_name,\n",
    "    model_nam_file=pfhxs_nam_file\n",
    ")"
   ]
  },
  {
   "cell_type": "markdown",
   "id": "4a733216-65b9-48e2-b474-0eb2b02ede9a",
   "metadata": {},
   "source": [
    "## Register redundant packages to new models\n",
    "\n",
    "Most of the models have redundant packages and only need a few to be changed. The transport model for PFOS has the following parameters:"
   ]
  },
  {
   "cell_type": "code",
   "execution_count": 5,
   "id": "be31f52c-55fe-4223-b57a-79ec95ae422e",
   "metadata": {},
   "outputs": [
    {
     "name": "stderr",
     "output_type": "stream",
     "text": [
      "C:\\Users\\jackp\\anaconda3\\envs\\PFAS\\Lib\\site-packages\\flopy\\mf6\\mfmodel.py:274: DeprecationWarning: This method is for internal use only and will be deprecated.\n",
      "  warnings.warn(\n"
     ]
    },
    {
     "data": {
      "text/plain": [
       "['dis', 'ic', 'adv', 'dsp', 'mst', 'ist', 'ssm', 'obs_pfos', 'oc']"
      ]
     },
     "execution_count": 5,
     "metadata": {},
     "output_type": "execute_result"
    }
   ],
   "source": [
    "gwt_pfos.package_names"
   ]
  },
  {
   "cell_type": "markdown",
   "id": "701f4f0d-17e5-4b4d-949d-44bf6eaa807a",
   "metadata": {},
   "source": [
    "Redundant packages will be loaded and assigned to the new model objects. The unique packages will be created for each solute.\n",
    "\n",
    "Redundant packages:\n",
    "- `dis`\n",
    "- `ic`\n",
    "- `adv`,\n",
    "- `dsp`,\n",
    "- `ist`,\n",
    "\n",
    "Model unique packages:\n",
    "- `mst`\n",
    "- `ssm`\n",
    "- `oc`\n",
    "\n",
    "There is also the `ims` package. Modflow requires a new IMS for each model, but we are using the same parameters for each model. We will load this in and assign it to each of the new solute models just like we did in the previous notebook."
   ]
  },
  {
   "cell_type": "markdown",
   "id": "dc30edd5-db75-438a-b730-1e183d8347bb",
   "metadata": {},
   "source": [
    "### Register IMS Package for each model"
   ]
  },
  {
   "cell_type": "code",
   "execution_count": 6,
   "id": "4a6ccbd1-ba33-478e-81dc-67efe46eb73c",
   "metadata": {},
   "outputs": [],
   "source": [
    "# IMS package for the GWT model\n",
    "ims_pfoa = flopy.mf6.ModflowIms(\n",
    "    sim,\n",
    "    pname='ims_pfoa',\n",
    "    filename='peterson_pfoa.ims',\n",
    "    complexity='COMPLEX',\n",
    "    linear_acceleration='BICGSTAB',\n",
    "    outer_maximum=100,\n",
    "    inner_maximum=500,\n",
    "    inner_dvclose=0.1,\n",
    "    outer_dvclose=0.1,\n",
    "    rcloserecord=8460, \n",
    "    no_ptcrecord='FIRST'\n",
    ")\n",
    "sim.register_ims_package(ims_pfoa, [pfoa_name])  # Assign ims_gwt to the GWT model"
   ]
  },
  {
   "cell_type": "code",
   "execution_count": 7,
   "id": "6dac9443-acb3-4d61-9162-9261e05629ad",
   "metadata": {},
   "outputs": [],
   "source": [
    "# IMS package for the GWT model\n",
    "ims_pfhxs = flopy.mf6.ModflowIms(\n",
    "    sim,\n",
    "    pname='ims_pfhxs',\n",
    "    filename='peterson_pfhxs.ims',\n",
    "    complexity='COMPLEX',\n",
    "    linear_acceleration='BICGSTAB',\n",
    "    outer_maximum=100,\n",
    "    inner_maximum=500,\n",
    "    inner_dvclose=0.1,\n",
    "    outer_dvclose=0.1,\n",
    "    rcloserecord=8460, \n",
    "    no_ptcrecord='FIRST'\n",
    ")\n",
    "sim.register_ims_package(ims_pfhxs, [pfhxs_name])  # Assign ims_gwt to the GWT model"
   ]
  },
  {
   "cell_type": "markdown",
   "id": "c34cbcd3-4fb8-416d-9845-7654c2796825",
   "metadata": {},
   "source": [
    "### Write Redundant Package Information"
   ]
  },
  {
   "cell_type": "code",
   "execution_count": 8,
   "id": "eb5e08b6-c5b2-4a5a-846b-ae0108b7f20f",
   "metadata": {},
   "outputs": [],
   "source": [
    "# Get redundant packages\n",
    "dis = gwt_pfos.get_package('dis')\n",
    "ic  = gwt_pfos.get_package('ic')\n",
    "adv = gwt_pfos.get_package('adv')\n",
    "dsp = gwt_pfos.get_package('dsp')\n",
    "ist = gwt_pfos.get_package('ist')\n",
    "\n",
    "# Place in list for iteration\n",
    "redundant_packages = [dis, ic, adv, dsp, ist]"
   ]
  },
  {
   "cell_type": "markdown",
   "id": "fba7f51a-33a4-4176-9d5c-d27083062e9c",
   "metadata": {},
   "source": [
    "#### DIS"
   ]
  },
  {
   "cell_type": "code",
   "execution_count": 9,
   "id": "fa2afd23-8074-4587-b841-915c74fdbeae",
   "metadata": {},
   "outputs": [],
   "source": [
    "dis_pfoa = mf6.ModflowGwtdis(\n",
    "    gwt_pfoa,\n",
    "    pname='dis',\n",
    "    filename='peterson_pfoa.dis',\n",
    "    length_units='METERS',\n",
    "    nlay=dis.nlay.data,\n",
    "    nrow=dis.nrow.data,\n",
    "    ncol=dis.ncol.data,\n",
    "    delr=20,\n",
    "    delc=20,\n",
    "    top='data-files/dis-top-elev.dat',\n",
    "    botm='data-files/dis-bedrock-elev.dat',\n",
    "    idomain='data-files/dis-idomain.dat',\n",
    "    xorigin=dis.xorigin.data,\n",
    "    yorigin=dis.yorigin.data,\n",
    "    angrot=dis.angrot.data\n",
    ")\n",
    "\n",
    "dis_pfhxs = mf6.ModflowGwtdis(\n",
    "    gwt_pfhxs,\n",
    "    pname='dis',\n",
    "    filename='peterson_pfhxs.dis',\n",
    "    length_units='METERS',\n",
    "    nlay=dis.nlay.data,\n",
    "    nrow=dis.nrow.data,\n",
    "    ncol=dis.ncol.data,\n",
    "    delr=20,\n",
    "    delc=20,\n",
    "    top='data-files/dis-top-elev.dat',\n",
    "    botm='data-files/dis-bedrock-elev.dat',\n",
    "    idomain='data-files/dis-idomain.dat',\n",
    "    xorigin=dis.xorigin.data,\n",
    "    yorigin=dis.yorigin.data,\n",
    "    angrot=dis.angrot.data\n",
    ")"
   ]
  },
  {
   "cell_type": "markdown",
   "id": "e1160783-a29c-4a03-b1b5-7d737e293045",
   "metadata": {},
   "source": [
    "#### IC"
   ]
  },
  {
   "cell_type": "code",
   "execution_count": 10,
   "id": "9d7d1725-52a6-40b9-8f46-dbaaab57f450",
   "metadata": {},
   "outputs": [],
   "source": [
    "ic_pfoa = flopy.mf6.ModflowGwtic(\n",
    "    gwt_pfoa,\n",
    "    strt=0,\n",
    "    pname='ic',\n",
    ")\n",
    "\n",
    "ic_pfhxs = flopy.mf6.ModflowGwtic(\n",
    "    gwt_pfhxs,\n",
    "    strt=0,\n",
    "    pname='ic',\n",
    ")"
   ]
  },
  {
   "cell_type": "markdown",
   "id": "58fd8d59-8900-4b86-b8ca-0eee06c8e60d",
   "metadata": {},
   "source": [
    "#### ADV "
   ]
  },
  {
   "cell_type": "code",
   "execution_count": 11,
   "id": "4477c6b5-c298-4fc6-b5c9-506fb783ddf5",
   "metadata": {},
   "outputs": [],
   "source": [
    "adv_pfoa = flopy.mf6.ModflowGwtadv(\n",
    "    gwt_pfoa,\n",
    "    scheme=adv.scheme.data,\n",
    "    pname='adv',\n",
    ")\n",
    "\n",
    "adv_pfhxs = flopy.mf6.ModflowGwtadv(\n",
    "    gwt_pfhxs,\n",
    "    scheme=adv.scheme.data,\n",
    "    pname='adv',\n",
    ")"
   ]
  },
  {
   "cell_type": "markdown",
   "id": "1da2c65f-40fa-406e-8b9e-50880ee1bae5",
   "metadata": {},
   "source": [
    "#### DSP"
   ]
  },
  {
   "cell_type": "code",
   "execution_count": 12,
   "id": "c3d5dc88-8dd8-441e-8116-7a9c073e457a",
   "metadata": {},
   "outputs": [],
   "source": [
    "alh =  {'filename':'data-files/tran-dispersion.dat', 'factor': 1.0}\n",
    "ath1 = {'filename':'data-files/tran-dispersion.dat', 'factor': 0.1}\n",
    "atv =  {'filename':'data-files/tran-dispersion.dat', 'factor':0.01}\n",
    "\n",
    "dsp_pfoa = flopy.mf6.ModflowGwtdsp(\n",
    "    gwt_pfoa,\n",
    "    alh=alh,\n",
    "    ath1=ath1,\n",
    "    atv=atv,\n",
    "    pname='dsp',\n",
    ")\n",
    "\n",
    "dsp = flopy.mf6.ModflowGwtdsp(\n",
    "    gwt_pfhxs,\n",
    "    alh=alh,\n",
    "    ath1=ath1,\n",
    "    atv=atv,\n",
    "    pname='dsp',\n",
    ")"
   ]
  },
  {
   "cell_type": "markdown",
   "id": "96cf1164-9650-4096-8c7f-4eb577c7f731",
   "metadata": {},
   "source": [
    "#### IST"
   ]
  },
  {
   "cell_type": "code",
   "execution_count": 13,
   "id": "7e5d498f-5488-4eb9-9186-5e701360722d",
   "metadata": {},
   "outputs": [],
   "source": [
    "ist_pfoa = flopy.mf6.ModflowGwtist(\n",
    "    gwt_pfoa,\n",
    "    pname='ist',\n",
    "    sorption='LINEAR',\n",
    "    porosity='data-files/tran-immobile-porosity.dat',\n",
    "    volfrac=0.1,\n",
    "    zetaim=0.001,\n",
    "    bulk_density='data-files/tran-bulk-density.dat',\n",
    "    distcoef=0.002754\n",
    ")\n",
    "\n",
    "ist_pfhxs = flopy.mf6.ModflowGwtist(\n",
    "    gwt_pfhxs,\n",
    "    pname='ist',\n",
    "    sorption='LINEAR',\n",
    "    porosity='data-files/tran-immobile-porosity.dat',\n",
    "    volfrac=0.1,\n",
    "    zetaim=0.001,\n",
    "    bulk_density='data-files/tran-bulk-density.dat',\n",
    "    distcoef=0.002754\n",
    ")"
   ]
  },
  {
   "cell_type": "markdown",
   "id": "95997365-c7e9-4132-a4aa-b6708a682c7a",
   "metadata": {},
   "source": [
    "### Create Non-Unique packages"
   ]
  },
  {
   "cell_type": "markdown",
   "id": "3e697052-9c36-4cfc-aaa3-0068fd761023",
   "metadata": {},
   "source": [
    "#### MST"
   ]
  },
  {
   "cell_type": "code",
   "execution_count": 14,
   "id": "a7e38ad5-b3e7-4718-8392-4602b7905814",
   "metadata": {},
   "outputs": [],
   "source": [
    "mst_pfoa = flopy.mf6.ModflowGwtmst(\n",
    "    gwt_pfoa,\n",
    "    sorption='LINEAR',\n",
    "    porosity='data-files/tran-porosity.dat',\n",
    "    bulk_density='data-files/tran-bulk-density.dat',\n",
    "    distcoef='data-files/tran-Kd-pfoa.dat'\n",
    ")\n",
    "\n",
    "mst_pfhxs = flopy.mf6.ModflowGwtmst(\n",
    "    gwt_pfhxs,\n",
    "    sorption='LINEAR',\n",
    "    porosity='data-files/tran-porosity.dat',\n",
    "    bulk_density='data-files/tran-bulk-density.dat',\n",
    "    distcoef='data-files/tran-Kd-pfhxs.dat'\n",
    ")"
   ]
  },
  {
   "cell_type": "markdown",
   "id": "16e47a2c-1b1d-4006-aca4-16be3a2c5188",
   "metadata": {},
   "source": [
    "#### SSM"
   ]
  },
  {
   "cell_type": "code",
   "execution_count": 15,
   "id": "7e98a3f6-201b-45c6-ae12-36d146059981",
   "metadata": {},
   "outputs": [],
   "source": [
    "ssm_pfoa = flopy.mf6.ModflowGwtssm(\n",
    "    gwt_pfoa, \n",
    "    pname='ssm',\n",
    "    sources=['rch_solutes', 'AUX', 'PFOA']\n",
    ")\n",
    "\n",
    "ssm_pfhxs = flopy.mf6.ModflowGwtssm(\n",
    "    gwt_pfhxs, \n",
    "    pname='ssm',\n",
    "    sources=['rch_solutes', 'AUX', 'PFHxS']\n",
    ")"
   ]
  },
  {
   "cell_type": "markdown",
   "id": "04412666-57a4-4cc7-abd9-7475a7cd93f6",
   "metadata": {},
   "source": [
    "### OBS"
   ]
  },
  {
   "cell_type": "markdown",
   "id": "209ce185-7eff-4950-b4c7-093af57410e7",
   "metadata": {},
   "source": [
    "#### Downstream Wells"
   ]
  },
  {
   "cell_type": "code",
   "execution_count": 16,
   "id": "0112e526-2c95-4ac8-992d-cb927adef9b5",
   "metadata": {},
   "outputs": [],
   "source": [
    "downstream_wells = pd.read_csv('../input-files/data-files/tran-targets-downstream.csv')\n",
    "\n",
    "idomain = np.loadtxt('../input-files/data-files/dis-idomain.dat')"
   ]
  },
  {
   "cell_type": "code",
   "execution_count": 17,
   "id": "a5eba606-4bd8-4a53-adb3-7e028481ca19",
   "metadata": {},
   "outputs": [
    {
     "name": "stdout",
     "output_type": "stream",
     "text": [
      "Well PND is in an inactive cell (0, 720, 191)\n"
     ]
    }
   ],
   "source": [
    "well_data = {}\n",
    "\n",
    "for i, well in downstream_wells.iterrows():\n",
    "    # Extract the cell's row and column indices\n",
    "    layer, row, col = 0, int(well['x']), int(well['y'])  # Layer hardcoded to 0\n",
    "\n",
    "    # Check cell in valid domain\n",
    "    if idomain[row, col] == 1:\n",
    "        well_data[well['Well Name']] = (layer, row, col)\n",
    "\n",
    "    else:\n",
    "        well_data[well['Well Name']] = None\n",
    "        print(f\"Well {well['Well Name']} is in an inactive cell ({layer}, {row}, {col})\")"
   ]
  },
  {
   "cell_type": "code",
   "execution_count": 18,
   "id": "ccef5c36-b2b2-4cb6-bb4a-c6dd7da54bfb",
   "metadata": {},
   "outputs": [],
   "source": [
    "obs_pfoa = []\n",
    "obs_pfhxs = []\n",
    "\n",
    "for name, cell in well_data.items():\n",
    "    if cell:\n",
    "        obs_pfoa.append((f\"{name}\", 'CONCENTRATION', cell))\n",
    "        obs_pfhxs.append((f\"{name}\", 'CONCENTRATION', cell))"
   ]
  },
  {
   "cell_type": "markdown",
   "id": "1ac46ab5-c684-4057-ad34-d56d15d51ac4",
   "metadata": {},
   "source": [
    "#### Upstream Wells"
   ]
  },
  {
   "cell_type": "code",
   "execution_count": 19,
   "id": "38158f71-bf92-4372-a607-62d99a7735c2",
   "metadata": {},
   "outputs": [],
   "source": [
    "# Geolocation of model grid\n",
    "rot = 30\n",
    "xorigin = 525532.4922815983\n",
    "yorigin = 4276158.318078171"
   ]
  },
  {
   "cell_type": "code",
   "execution_count": 20,
   "id": "70918cd4-993b-4e60-ade4-b747ba3a9c14",
   "metadata": {},
   "outputs": [],
   "source": [
    "upstream_pfoa = pd.read_csv('../input-files/data-files/tran-PFOA-targets.csv')\n",
    "upstream_pfhxs = pd.read_csv('../input-files/data-files/tran-PFHxS-targets.csv')"
   ]
  },
  {
   "cell_type": "code",
   "execution_count": 21,
   "id": "a2d77c6d-a40c-4b2b-997b-cf9e9304b664",
   "metadata": {},
   "outputs": [],
   "source": [
    "for _, row in upstream_pfoa.iterrows():\n",
    "    cell = fw.locate_well_rotated(row['x'], row['y'], xorigin, yorigin, 20,20, 972, 700, rot)\n",
    "    \n",
    "    if cell:\n",
    "        obs_pfoa.append((f\"{row['Well_ID']}\", 'CONCENTRATION', (0, cell[0], cell[1])))"
   ]
  },
  {
   "cell_type": "code",
   "execution_count": 22,
   "id": "614dd822-2855-4011-8e86-a6ca603b616a",
   "metadata": {},
   "outputs": [],
   "source": [
    "for _, row in upstream_pfhxs.iterrows():\n",
    "    cell = fw.locate_well_rotated(row['x'], row['y'], xorigin, yorigin, 20,20, 972, 700, rot)\n",
    "    \n",
    "    if cell:\n",
    "        obs_pfhxs.append((f\"{row['Well_ID']}\", 'CONCENTRATION', (0, cell[0], cell[1])))"
   ]
  },
  {
   "cell_type": "code",
   "execution_count": 23,
   "id": "e5116192-9c93-4a99-927f-02d7c6843c23",
   "metadata": {},
   "outputs": [],
   "source": [
    "obs_package_pfoa = flopy.mf6.ModflowUtlobs(\n",
    "    gwt_pfoa,\n",
    "    pname='obs_pfoa',\n",
    "    digits=10,\n",
    "    print_input=True,\n",
    "    continuous={'../output-files/pfoa_obs.csv':obs_pfoa}\n",
    ")"
   ]
  },
  {
   "cell_type": "code",
   "execution_count": 24,
   "id": "2cd31484-768a-42bd-9a35-12dba7f7ee26",
   "metadata": {},
   "outputs": [],
   "source": [
    "obs_package_pfhxs = flopy.mf6.ModflowUtlobs(\n",
    "    gwt_pfhxs,\n",
    "    pname='obs_pfhxs',\n",
    "    digits=10,\n",
    "    print_input=True,\n",
    "    continuous={'../output-files/pfhxs_obs.csv':obs_pfhxs}\n",
    ")"
   ]
  },
  {
   "cell_type": "markdown",
   "id": "9281efc2-2e10-42d7-9ac7-e623d9f304e8",
   "metadata": {},
   "source": [
    "#### OC"
   ]
  },
  {
   "cell_type": "code",
   "execution_count": 25,
   "id": "0beb68e6-5184-40da-ac1b-5a6a9fe3c4f2",
   "metadata": {},
   "outputs": [],
   "source": [
    "oc_pfoa = flopy.mf6.ModflowGwtoc(\n",
    "    gwt_pfoa,\n",
    "    pname='oc_pfoa',\n",
    "    concentration_filerecord='../output-files/PFOA_conc.ucn',\n",
    "    saverecord= ['CONCENTRATION', 'ALL'],\n",
    "    printrecord= ['CONCENTRATION', 'ALL']\n",
    ")\n",
    "\n",
    "oc_pfhxs = flopy.mf6.ModflowGwtoc(\n",
    "    gwt_pfhxs,\n",
    "    pname='oc_pfhxs',\n",
    "    concentration_filerecord='../output-files/PFHxS_conc.ucn',\n",
    "    saverecord= ['CONCENTRATION', 'ALL'],\n",
    "    printrecord= ['CONCENTRATION', 'ALL']\n",
    ")"
   ]
  },
  {
   "cell_type": "markdown",
   "id": "49ea7959-1d90-416f-aa68-39aad79ebf71",
   "metadata": {},
   "source": [
    "### Exchange Files"
   ]
  },
  {
   "cell_type": "code",
   "execution_count": 26,
   "id": "7b005486-a638-47f3-bee4-5e43d02e6883",
   "metadata": {},
   "outputs": [],
   "source": [
    "exg_pfoa = flopy.mf6.ModflowGwfgwt(\n",
    "    sim, exgmnamea='peterson_flow', exgmnameb=pfoa_name, filename='peterson_pfoa.gwfgwt'\n",
    ")\n",
    "\n",
    "exg_pfhxs = flopy.mf6.ModflowGwfgwt(\n",
    "    sim, exgmnamea='peterson_flow', exgmnameb=pfhxs_name, filename='peterson_pfhxs.gwfgwt'\n",
    ")"
   ]
  },
  {
   "cell_type": "code",
   "execution_count": 27,
   "id": "bac69835-5a4e-43c7-8695-5299f781120d",
   "metadata": {},
   "outputs": [
    {
     "name": "stdout",
     "output_type": "stream",
     "text": [
      "writing simulation...\n",
      "  writing simulation name file...\n",
      "  writing simulation tdis package...\n",
      "  writing solution package peterson_flow...\n",
      "  writing solution package peterson_pfos...\n",
      "  writing solution package ims_pfoa...\n",
      "  writing solution package ims_pfhxs...\n",
      "  writing package gwf-gwt_exg_0...\n",
      "  writing package peterson_pfoa.gwfgwt...\n",
      "  writing package peterson_pfhxs.gwfgwt...\n",
      "  writing model peterson_flow...\n",
      "    writing model name file...\n",
      "    writing package dis...\n",
      "    writing package ic...\n",
      "    writing package npf...\n",
      "    writing package riv...\n",
      "    writing package obs...\n",
      "    writing package wel...\n",
      "    writing package chd...\n",
      "    writing package sto...\n",
      "    writing package rcha_tas...\n",
      "    writing package rcha...\n",
      "    writing package oc...\n",
      "    writing package rch_1_ts...\n",
      "    writing package rch_solutes...\n",
      "  writing model peterson_pfos...\n",
      "    writing model name file...\n",
      "    writing package dis...\n",
      "    writing package ic...\n",
      "    writing package adv...\n",
      "    writing package dsp...\n",
      "    writing package mst...\n",
      "    writing package ist...\n",
      "    writing package ssm...\n",
      "    writing package obs_pfos...\n",
      "    writing package oc...\n",
      "  writing model peterson_pfoa...\n",
      "    writing model name file...\n",
      "    writing package dis...\n",
      "    writing package ic...\n",
      "    writing package adv...\n",
      "    writing package dsp...\n",
      "    writing package ist...\n",
      "    writing package mst...\n",
      "    writing package ssm...\n",
      "    writing package obs_pfoa...\n",
      "    writing package oc_pfoa...\n",
      "  writing model peterson_pfhxs...\n",
      "    writing model name file...\n",
      "    writing package dis...\n",
      "    writing package ic...\n",
      "    writing package adv...\n",
      "    writing package dsp...\n",
      "    writing package ist...\n",
      "    writing package mst...\n",
      "    writing package ssm...\n",
      "    writing package obs_pfhxs...\n",
      "    writing package oc_pfhxs...\n"
     ]
    }
   ],
   "source": [
    "sim.write_simulation()"
   ]
  },
  {
   "cell_type": "code",
   "execution_count": null,
   "id": "7d322fa3-2df5-4471-9abe-ed03c82b96f0",
   "metadata": {},
   "outputs": [
    {
     "name": "stdout",
     "output_type": "stream",
     "text": [
      "FloPy is using the following executable to run the model: ..\\bin\\mf6.exe\n",
      "                                   MODFLOW 6\n",
      "                U.S. GEOLOGICAL SURVEY MODULAR HYDROLOGIC MODEL\n",
      "                            VERSION 6.5.0 05/23/2024\n",
      "\n",
      "   MODFLOW 6 compiled May 23 2024 18:06:57 with Intel(R) Fortran Intel(R) 64\n",
      "   Compiler Classic for applications running on Intel(R) 64, Version 2021.7.0\n",
      "                             Build 20220726_000000\n",
      "\n",
      "This software has been approved for release by the U.S. Geological \n",
      "Survey (USGS). Although the software has been subjected to rigorous \n",
      "review, the USGS reserves the right to update the software as needed \n",
      "pursuant to further analysis and review. No warranty, expressed or \n",
      "implied, is made by the USGS or the U.S. Government as to the \n",
      "functionality of the software and related material nor shall the \n",
      "fact of release constitute any such warranty. Furthermore, the \n",
      "software is released on condition that neither the USGS nor the U.S. \n",
      "Government shall be held liable for any damages resulting from its \n",
      "authorized or unauthorized use. Also refer to the USGS Water \n",
      "Resources Software User Rights Notice for complete use, copyright, \n",
      "and distribution information.\n",
      "\n",
      " \n",
      " MODFLOW runs in SEQUENTIAL mode\n",
      " \n",
      " Run start date and time (yyyy/mm/dd hh:mm:ss): 2025/01/31  1:08:36\n",
      " \n",
      " Writing simulation list file: mfsim.lst\n",
      " Using Simulation name file: mfsim.nam\n",
      " \n",
      "    Solving:  Stress period:     1    Time step:     1\n",
      "    Solving:  Stress period:     2    Time step:     1\n",
      "    Solving:  Stress period:     3    Time step:     1\n",
      "    Solving:  Stress period:     4    Time step:     1\n"
     ]
    }
   ],
   "source": [
    "## Uncomment this cell to run the simulation with the flow and PFOS transport model\n",
    "\n",
    "success, buff = sim.run_simulation(report=True,)# use_async=True) # async shows timestamps for each line printed, good for long models\n",
    "assert success"
   ]
  },
  {
   "cell_type": "markdown",
   "id": "65e505da-c550-41bc-a9cd-adb245b58ca5",
   "metadata": {},
   "source": [
    "Following model run, copy outputs to a folder in `../previous-results/` w/ the input conc csv as well."
   ]
  },
  {
   "cell_type": "code",
   "execution_count": null,
   "id": "e0079d03-4fd9-4407-bac3-8604974298aa",
   "metadata": {},
   "outputs": [],
   "source": []
  }
 ],
 "metadata": {
  "kernelspec": {
   "display_name": "Python 3 (ipykernel)",
   "language": "python",
   "name": "python3"
  },
  "language_info": {
   "codemirror_mode": {
    "name": "ipython",
    "version": 3
   },
   "file_extension": ".py",
   "mimetype": "text/x-python",
   "name": "python",
   "nbconvert_exporter": "python",
   "pygments_lexer": "ipython3",
   "version": "3.13.1"
  }
 },
 "nbformat": 4,
 "nbformat_minor": 5
}
