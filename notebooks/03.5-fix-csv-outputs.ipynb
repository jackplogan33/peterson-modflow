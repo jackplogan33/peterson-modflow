{
 "cells": [
  {
   "cell_type": "code",
   "execution_count": 16,
   "id": "ea3192d5-6c14-4499-b2fd-82fec1a3f8ee",
   "metadata": {},
   "outputs": [],
   "source": [
    "import pandas as pd\n",
    "import re\n",
    "import numpy as np"
   ]
  },
  {
   "cell_type": "code",
   "execution_count": 17,
   "id": "94b8f435-d45e-4d1c-94ca-05d4eef84278",
   "metadata": {},
   "outputs": [
    {
     "name": "stderr",
     "output_type": "stream",
     "text": [
      "C:\\Users\\ipedraza\\AppData\\Local\\Temp\\ipykernel_12556\\863902814.py:13: FutureWarning: DataFrame.applymap has been deprecated. Use DataFrame.map instead.\n",
      "  pfos = pfos.applymap(fix_scientific_notation)\n",
      "C:\\Users\\ipedraza\\AppData\\Local\\Temp\\ipykernel_12556\\863902814.py:14: FutureWarning: DataFrame.applymap has been deprecated. Use DataFrame.map instead.\n",
      "  pfoa = pfoa.applymap(fix_scientific_notation)\n",
      "C:\\Users\\ipedraza\\AppData\\Local\\Temp\\ipykernel_12556\\863902814.py:15: FutureWarning: DataFrame.applymap has been deprecated. Use DataFrame.map instead.\n",
      "  pfhxs = pfhxs.applymap(fix_scientific_notation)\n",
      "C:\\Users\\ipedraza\\AppData\\Local\\Temp\\ipykernel_12556\\863902814.py:18: FutureWarning: errors='ignore' is deprecated and will raise in a future version. Use to_numeric without passing `errors` and catch exceptions explicitly instead\n",
      "  pfos= pfos.apply(pd.to_numeric, errors='ignore')\n",
      "C:\\Users\\ipedraza\\AppData\\Local\\Temp\\ipykernel_12556\\863902814.py:19: FutureWarning: errors='ignore' is deprecated and will raise in a future version. Use to_numeric without passing `errors` and catch exceptions explicitly instead\n",
      "  pfoa= pfoa.apply(pd.to_numeric, errors='ignore')\n",
      "C:\\Users\\ipedraza\\AppData\\Local\\Temp\\ipykernel_12556\\863902814.py:20: FutureWarning: errors='ignore' is deprecated and will raise in a future version. Use to_numeric without passing `errors` and catch exceptions explicitly instead\n",
      "  pfhxs= pfhxs.apply(pd.to_numeric, errors='ignore')\n"
     ]
    }
   ],
   "source": [
    "# Read the CSV\n",
    "pfos = pd.read_csv('../output-files/pfos_obs.csv', dtype=str)  # Read as string to avoid automatic misinterpretation\n",
    "pfoa = pd.read_csv('../output-files/pfoa_obs.csv', dtype=str) \n",
    "pfhxs = pd.read_csv('../output-files/pfhxs_obs.csv', dtype=str) \n",
    "\n",
    "# Function to fix scientific notation issues\n",
    "def fix_scientific_notation(value):\n",
    "    if isinstance(value, str):\n",
    "        return re.sub(r'(\\d+)-(\\d+)', r'\\1e-\\2', value)\n",
    "    return value  # Return unchanged if not a string\n",
    "\n",
    "# Apply the fix to all columns\n",
    "pfos = pfos.applymap(fix_scientific_notation)\n",
    "pfoa = pfoa.applymap(fix_scientific_notation)\n",
    "pfhxs = pfhxs.applymap(fix_scientific_notation)\n",
    "\n",
    "# Convert columns back to numeric where possible\n",
    "pfos= pfos.apply(pd.to_numeric, errors='ignore')\n",
    "pfoa= pfoa.apply(pd.to_numeric, errors='ignore')\n",
    "pfhxs= pfhxs.apply(pd.to_numeric, errors='ignore')\n",
    "# Save the fixed CSV\n",
    "pfos.to_csv('../output-files/pfos_obs.csv', index=False)\n",
    "pfoa.to_csv('../output-files/pfoa_obs.csv', index=False)\n",
    "pfhxs.to_csv('../output-files/pfhxs_obs.csv', index=False)"
   ]
  },
  {
   "cell_type": "code",
   "execution_count": null,
   "id": "3a74a18e-dac7-45bd-b0b2-b988841a290c",
   "metadata": {},
   "outputs": [],
   "source": []
  }
 ],
 "metadata": {
  "kernelspec": {
   "display_name": "Python 3 (ipykernel)",
   "language": "python",
   "name": "python3"
  },
  "language_info": {
   "codemirror_mode": {
    "name": "ipython",
    "version": 3
   },
   "file_extension": ".py",
   "mimetype": "text/x-python",
   "name": "python",
   "nbconvert_exporter": "python",
   "pygments_lexer": "ipython3",
   "version": "3.12.3"
  }
 },
 "nbformat": 4,
 "nbformat_minor": 5
}
